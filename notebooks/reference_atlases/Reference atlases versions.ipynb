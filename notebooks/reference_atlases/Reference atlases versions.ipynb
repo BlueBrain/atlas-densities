{
 "cells": [
  {
   "cell_type": "markdown",
   "metadata": {},
   "source": [
    "# Show reference atlas slices"
   ]
  },
  {
   "cell_type": "markdown",
   "metadata": {},
   "source": [
    "## Description"
   ]
  },
  {
   "cell_type": "markdown",
   "metadata": {},
   "source": [
    "The mouse brain reference volumes are a pair of volumetric files from the Allen Institute for Brain Science (AIBS): the Nissl and the annotations volumes.\n",
    "\n",
    "The Nissl volume shows every cell in the brain. It is used to obtain the cell distribution in the mouse brain. The annotations volume provides a brain region id to each voxel of the Nissl volume and any volumetric dataset of the AIBS. The mouse brain regions are organized in a hierarchical tree, with leaves representing the finest subdivisions captured by the AIBS. This hierarchy is stored in a json file and is common to each reference atlas version. It is also available on the AIBS website.\n",
    "\n",
    "These two whole brain volumes exist in multiple versions and need to be aligned to each other to produce the best results in terms of cell density estimation (see https://doi.org/10.1101/2021.11.20.469384 for more details).\n",
    "\n",
    "To test the alignment between the different pairs of annotations volume and Nissl volume, we are plotting the annotations volumes in color on top of the Nissl volumes."
   ]
  },
  {
   "cell_type": "code",
   "execution_count": null,
   "metadata": {},
   "outputs": [],
   "source": [
    "import numpy as np\n",
    "import nrrd\n",
    "import json\n",
    "from voxcell import RegionMap, VoxelData\n",
    "from os.path import join, isfile, realpath\n",
    "from pylab import plt\n",
    "import matplotlib.colors as colors"
   ]
  },
  {
   "cell_type": "markdown",
   "metadata": {},
   "source": [
    "Change below the path to the folder containing the data, including the annotations volumes, the Nissl volumes and the json hierarchy file.\n",
    "\n",
    "Change also the folder in which the figures produced will be stored.\n",
    "\n",
    "There are different versions of the reference atlas pairs that we store in subfolders."
   ]
  },
  {
   "cell_type": "code",
   "execution_count": null,
   "metadata": {},
   "outputs": [],
   "source": [
    "DATA_FOLDER = 'path/to/data/'\n",
    "OUTPUT_FOLDER = \"/path/to/output/\"\n",
    "CCF_VERSION = \"ccfv2\""
   ]
  },
  {
   "cell_type": "code",
   "execution_count": null,
   "metadata": {},
   "outputs": [],
   "source": [
    "region_map = RegionMap.load_json(join(DATA_FOLDER, \"brain_regions.json\"))"
   ]
  },
  {
   "cell_type": "code",
   "execution_count": null,
   "metadata": {},
   "outputs": [],
   "source": [
    "annotation = VoxelData.load_nrrd(join(DATA_FOLDER, CCF_VERSION, \"annotations.nrrd\")).raw\n",
    "nissl = VoxelData.load_nrrd(join(DATA_FOLDER, CCF_VERSION, \"ara_nissl_25.nrrd\")).raw"
   ]
  },
  {
   "cell_type": "code",
   "execution_count": null,
   "metadata": {},
   "outputs": [],
   "source": [
    "sagittal_slice = int(ann.shape[2] // 2.5)"
   ]
  },
  {
   "cell_type": "code",
   "execution_count": null,
   "metadata": {},
   "outputs": [],
   "source": [
    "cmap = plt.cm.gray\n",
    "norm = plt.Normalize(nissl.min(), nissl.max())\n",
    "rgba = cmap(1-norm(nissl[:, :, sagittal_slice].T))\n",
    "\n",
    "rgba-=0.1\n",
    "rgba = np.maximum(rgba/np.max(rgba), 0)\n",
    "\n",
    "fig = plt.figure(figsize=(15, 9.1))\n",
    "plt.imshow(rgba, interpolation='nearest')\n",
    "plt.axis('off')\n",
    "plt.xlim([0, annotation.shape[0]])\n",
    "plt.ylim([annotation.shape[1], 0])\n",
    "plt.tight_layout(pad=0)\n",
    "plt.savefig(join(OUTPUT_FOLDER, \"nissl_exp.png\"), dpi=200, facecolor=\"white\")"
   ]
  },
  {
   "cell_type": "code",
   "execution_count": null,
   "metadata": {},
   "outputs": [],
   "source": [
    "np.random.seed(182) \n",
    "uniq = np.unique(annotation)\n",
    "cmap = plt.cm.viridis \n",
    "cmaplist = [cmap(i) for i in range(cmap.N)] \n",
    "cmaplist[-1] = (1.0, 1.0, 1.0, 1.0) \n",
    "cmap = colors.LinearSegmentedColormap.from_list(\"mcm\", cmaplist, cmap.N) \n",
    "random_amplitudes = np.random.rand(np.max(uniq) +1) \n",
    "random_amplitudes[0] = 1.0 "
   ]
  },
  {
   "cell_type": "code",
   "execution_count": null,
   "metadata": {},
   "outputs": [],
   "source": [
    "plt.figure(figsize=(15, 10))\n",
    "plt.imshow(\n",
    "        random_amplitudes[annotation[:, :, sagittal_slice]].T,\n",
    "        interpolation=\"nearest\",\n",
    "        cmap=cmap)\n",
    "plt.axis('off')\n",
    "plt.xlim([0, annotation.shape[0]])\n",
    "plt.ylim([annotation.shape[1], 0])\n",
    "plt.tight_layout(pad=0)\n",
    "plt.savefig(join(OUTPUT_FOLDER, \"annotations.png\"), dpi=200, facecolor=\"white\")"
   ]
  },
  {
   "cell_type": "markdown",
   "metadata": {},
   "source": [
    "Plotting the AIBS average brain for comparison:\n",
    "http://download.alleninstitute.org/informatics-archive/current-release/mouse_ccf/average_template/average_template_25.nrrd"
   ]
  },
  {
   "cell_type": "code",
   "execution_count": null,
   "metadata": {},
   "outputs": [],
   "source": [
    "avg_brain = VoxelData.load_nrrd(join(DATA_FOLDER, \"average_template_25.nrrd\")).raw"
   ]
  },
  {
   "cell_type": "code",
   "execution_count": null,
   "metadata": {},
   "outputs": [],
   "source": [
    "cmap = plt.cm.gray\n",
    "norm = plt.Normalize(avg_brain.min(), avg_brain.max())\n",
    "rgba = cmap(1-norm(avg_brain[:, :, sagittal_slice].T))\n",
    "\n",
    "rgba-=0.1\n",
    "rgba = np.maximum(rgba/np.max(rgba), 0)\n",
    "\n",
    "fig = plt.figure(figsize=(15, 9.1))\n",
    "plt.imshow(rgba, interpolation='nearest')\n",
    "plt.axis('off')\n",
    "plt.xlim([0, annotation.shape[0]])\n",
    "plt.ylim([annotation.shape[1], 0])\n",
    "plt.tight_layout(pad=0)\n",
    "plt.savefig(join(OUTPUT_FOLDER, \"avg_brain_slice.png\"), dpi=200, facecolor=\"white\")"
   ]
  },
  {
   "cell_type": "code",
   "execution_count": null,
   "metadata": {},
   "outputs": [],
   "source": []
  }
 ],
 "metadata": {
  "kernelspec": {
   "display_name": "venv",
   "language": "python",
   "name": "venv"
  },
  "language_info": {
   "codemirror_mode": {
    "name": "ipython",
    "version": 3
   },
   "file_extension": ".py",
   "mimetype": "text/x-python",
   "name": "python",
   "nbconvert_exporter": "python",
   "pygments_lexer": "ipython3",
   "version": "3.8.10"
  }
 },
 "nbformat": 4,
 "nbformat_minor": 4
}
