{
 "cells": [
  {
   "cell_type": "markdown",
   "source": [
    "# Compare densities obtained from different versions of the reference atlases"
   ],
   "metadata": {
    "collapsed": false,
    "pycharm": {
     "name": "#%% md\n"
    }
   }
  },
  {
   "cell_type": "markdown",
   "source": [
    "## Description"
   ],
   "metadata": {
    "collapsed": false,
    "pycharm": {
     "name": "#%% md\n"
    }
   }
  },
  {
   "cell_type": "markdown",
   "source": [
    "The mouse brain reference volumes are a pair of volumetric files from the Allen Institute for Brain Science (AIBS): the **Nissl** and the **annotations** volumes.\n",
    "\n",
    "The **Nissl volume** shows every cell in the brain. It is used to obtain the cell distribution in the mouse brain.\n",
    "The **annotations volume** provides a brain region id to each voxel of the Nissl volume and any volumetric dataset of the AIBS. The mouse brain regions are organized in a hierarchical tree, with leaves representing the finest subdivisions captured by the AIBS. This **hierarchy** is stored in a **json file** and is common to each reference atlas version. It is also available on the AIBS website.\n",
    "\n",
    "These two whole brain volumes exist in multiple versions and need to be aligned to each other to produce the best results in terms of cell density estimation (see https://doi.org/10.1101/2021.11.20.469384 for more details).\n",
    "\n",
    "To find the best pair of annotations volume and Nissl volume, we are plotting the neuron density estimates of the Cell Atlas obtained from each version against literature values."
   ],
   "metadata": {
    "collapsed": false,
    "pycharm": {
     "name": "#%% md\n"
    }
   }
  },
  {
   "cell_type": "code",
   "execution_count": 2,
   "metadata": {
    "collapsed": true,
    "pycharm": {
     "name": "#%%\n"
    }
   },
   "outputs": [],
   "source": [
    "import re\n",
    "import numpy as np\n",
    "import json\n",
    "from voxcell import RegionMap, VoxelData\n",
    "import matplotlib.pylab as plt\n",
    "from matplotlib import patches, lines\n",
    "from os.path import join"
   ]
  },
  {
   "cell_type": "markdown",
   "source": [
    "## Set matplotlib parameters"
   ],
   "metadata": {
    "collapsed": false,
    "pycharm": {
     "name": "#%% md\n"
    }
   }
  },
  {
   "cell_type": "code",
   "execution_count": null,
   "outputs": [],
   "source": [
    "SMALL_SIZE = 48\n",
    "MEDIUM_SIZE = 48\n",
    "BIGGER_SIZE = 48\n",
    "plt.rcParams[\"font.family\"] = \"Arial\"\n",
    "plt.rc('font', size=SMALL_SIZE)          # controls default text sizes\n",
    "plt.rc('axes', titlesize=BIGGER_SIZE)     # fontsize of the axes title\n",
    "plt.rc('axes', labelsize=MEDIUM_SIZE)    # fontsize of the x and y labels\n",
    "plt.rc('xtick', labelsize=SMALL_SIZE)    # fontsize of the tick labels\n",
    "plt.rc('ytick', labelsize=SMALL_SIZE)    # fontsize of the tick labels\n",
    "plt.rc('legend', fontsize=SMALL_SIZE)    # legend fontsize\n",
    "plt.rc('figure', titlesize=BIGGER_SIZE)  # fontsize of the figure title\n",
    "\n",
    "plt.rcParams['xtick.major.pad']  = 9.0\n",
    "plt.rcParams['axes.linewidth'] = 2.0\n",
    "plt.rcParams['xtick.major.size' ] = 7.0*3.0\n",
    "plt.rcParams['xtick.minor.size' ] = 4.0*3.0\n",
    "plt.rcParams['ytick.major.size' ] = 7.0*3.0\n",
    "plt.rcParams['ytick.minor.size' ] = 4.0*3.0\n",
    "plt.rcParams['xtick.major.width'] = 2.4\n",
    "plt.rcParams['xtick.minor.width'] = 1.8\n",
    "plt.rcParams['ytick.major.width'] = 2.4\n",
    "plt.rcParams['ytick.minor.width'] = 1.8\n",
    "\n",
    "# color dictionary\n",
    "CBcdict={\n",
    "    'Bl':np.array([0,0,0]),\n",
    "    'Or':np.array([.9,.6,0]),\n",
    "    'SB':np.array([.35,.7,.9]),\n",
    "    'bG':np.array([0,.6,.5]),\n",
    "    'Ye':np.array([.95,.9,.25]),\n",
    "    'Bu':np.array([0,.45,.7]),\n",
    "    'Ve':np.array([.8,.4,0]),\n",
    "    'rP':np.array([.8,.6,.7]),\n",
    "}"
   ],
   "metadata": {
    "collapsed": false,
    "pycharm": {
     "name": "#%%\n"
    }
   }
  },
  {
   "cell_type": "code",
   "execution_count": null,
   "outputs": [],
   "source": [
    "DATA_FOLDER = '/path/to/data/'\n",
    "OUTPUT_FOLDER = \"/path/to/output/\"\n",
    "ccfs = [\"bbp\", \"ccfv2\", \"ccfv3\"]  # subfolders containing the annotations and Nissl volumes\n",
    "ccf_color_keys = [\"Bu\", \"Or\", \"SB\"]\n",
    "ccf_fullname = ['CCFbbp', 'CCFv2', 'CCFv3']  # names to display on the figure\n",
    "annotation_file = \"annotations.nrrd\"  # name given to each nrrd annotation file\n",
    "region_hierarchy_file = \"brain_regions.json\"  # mouse brain region hierarchy file (json).\n",
    "neuron_density_file = \"neuron_density.nrrd\"  # name given to each neuron density file\n",
    "cell_density_file = \"cell_density.nrrd\"  # name given to each cell density file"
   ],
   "metadata": {
    "collapsed": false,
    "pycharm": {
     "name": "#%%\n"
    }
   }
  },
  {
   "cell_type": "code",
   "execution_count": null,
   "outputs": [],
   "source": [
    "region_map = RegionMap.load_json(join(DATA_FOLDER, region_hierarchy_file)) # load json hierarchy file"
   ],
   "metadata": {
    "collapsed": false,
    "pycharm": {
     "name": "#%%\n"
    }
   }
  },
  {
   "cell_type": "markdown",
   "source": [
    "## Extract neuron density literature values to compare the cell atlas results to"
   ],
   "metadata": {
    "collapsed": false,
    "pycharm": {
     "name": "#%% md\n"
    }
   }
  },
  {
   "cell_type": "markdown",
   "source": [
    "The following mean values and standard deviation were extracted from Lefort et al. 2016, Xu et al. 2010 and Gourfinkel-An et al. 2003.\n",
    "More information on this extraction in Rodarie et al. 2021."
   ],
   "metadata": {
    "collapsed": false,
    "pycharm": {
     "name": "#%% md\n"
    }
   }
  },
  {
   "cell_type": "code",
   "execution_count": null,
   "outputs": [],
   "source": [
    "# Layer 1 values\n",
    "names_l1 = [\"Prelimbic area\", \"Primary somatosensory area\",\n",
    "         \"Primary visual area\", \"Primary somatosensory area, barrel field\"]  # Names of the regions\n",
    "abvs_l1 = [\"PV\", \"SS\", \"VA\", \"BF\"]  # Abbreviations to display\n",
    "lit_refs_l1 = [\"Xu et al. 2010\", \"Xu et al. 2010\", \"Xu et al. 2010\", \"Lefort et al. 2016\"]  # Reference paper for each value\n",
    "lit_means_l1 = np.array([11328, 18752, 19452, 2873.630917])  # Mean layer 1 value extracted from each paper\n",
    "lit_stds_l1 = np.array([1648, 2456, 1868, 884.1941283])  # Standard deviation for each value\n",
    "\n",
    "# Molecular layer neuron density value from Gourfinkel-An et al. 2003.\n",
    "# We also display the granular layer densities for comparison.\n",
    "# No values are available for these regions so the density value is set to 0 to not be displayed.\n",
    "names_cbx = [\"Lingula (I), granular layer\", \"Lingula (I), molecular layer\",\n",
    "         \"Flocculus, granular layer\", \"Flocculus, molecular layer\"]\n",
    "abvs_cbx = [\"Ling, GL\", \"Ling, ML\", \"Floc, GL\", \"Floc, ML\"]\n",
    "lit_means_cbx = np.array([0, 55100]*2)\n",
    "lit_refs_cbx = np.array(['', 'Gourfinkel-An et al. 2003'] * 2)"
   ],
   "metadata": {
    "collapsed": false,
    "pycharm": {
     "name": "#%%\n"
    }
   }
  },
  {
   "cell_type": "markdown",
   "source": [
    "## Bar plots of comparison between literature and generated cell atlas neuron density for each reference atlas pair"
   ],
   "metadata": {
    "collapsed": false,
    "pycharm": {
     "name": "#%% md\n"
    }
   }
  },
  {
   "cell_type": "code",
   "execution_count": null,
   "outputs": [],
   "source": [
    "# Find ids related to isocortex layer 1 for each region of literature.\n",
    "ids_ctx = region_map.find(\"Isocortex\", attr=\"name\", with_descendants=True)\n",
    "ids_regions_l1 = [list(ids_ctx & region_map.find(\"@.*\" + name + \".*layer 1$\",\n",
    "                                              attr=\"name\")) for name in names_l1]"
   ],
   "metadata": {
    "collapsed": false,
    "pycharm": {
     "name": "#%%\n"
    }
   }
  },
  {
   "cell_type": "code",
   "execution_count": null,
   "outputs": [],
   "source": [
    "# Extract generated density values of the Cell Atlas for each L1 region\n",
    "ccf_densities_l1 = np.zeros((len(ccfs), len(names_l1)), dtype=float)\n",
    "for i, ccf in enumerate(ccfs):\n",
    "    annotation = VoxelData.load_nrrd(join(DATA_FOLDER, ccf, annotation_file)).raw\n",
    "    neuron_density = VoxelData.load_nrrd(join(DATA_FOLDER, ccf, neuron_density_file)).raw\n",
    "    for j, id_ in enumerate(ids_regions_l1):\n",
    "        ccf_densities_l1[i, j] = np.mean(neuron_density[np.isin(annotation, id_)])"
   ],
   "metadata": {
    "collapsed": false,
    "pycharm": {
     "name": "#%%\n"
    }
   }
  },
  {
   "cell_type": "code",
   "execution_count": null,
   "outputs": [],
   "source": [
    "fig = plt.figure(figsize=(15,10))\n",
    "plt.ticklabel_format(style='sci', axis='x', scilimits=(0,0))\n",
    "width = 1.0 / (len(ccfs) + 1) - 0.02\n",
    "min_max = np.vstack((lit_stds_l1, lit_stds_l1))\n",
    "\n",
    "for i, ccf in enumerate(ccfs):\n",
    "    x = np.arange(len(names_l1)) * (width + 0.02) * (len(ccfs) + 1) + (width * i + width / 2)\n",
    "    plt.barh(x, np.array(ccf_densities_l1[i]), height=width, color = CBcdict[ccf_color_keys[i]])\n",
    "x = np.arange(len(names_l1)) * (width + 0.02) * (len(ccfs) + 1) + (width * len(ccfs) + width / 2)\n",
    "bar4 = plt.barh(x, np.array(lit_means_l1),\n",
    "                height=width, color = CBcdict[\"Ve\"], xerr=min_max, edgecolor='black', linewidth=5)\n",
    "for ibar, bar in enumerate(bar4):\n",
    "    plt.annotate(lit_refs_l1[ibar],xy=(bar.get_width(), bar.get_y() + bar.get_height() / 2),\n",
    "                 xytext=(50, 0),\n",
    "                 textcoords=\"offset points\",\n",
    "                 ha='left', va='center')\n",
    "\n",
    "x = np.arange(len(ccfs) + 1) + 0.5\n",
    "plt.yticks(x, abvs_l1)\n",
    "plt.ylim([0, len(x)])\n",
    "plt.gca().spines['right'].set_visible(False)\n",
    "plt.gca().spines['top'].set_visible(False)\n",
    "plt.gca().yaxis.set_ticks_position('left')\n",
    "plt.gca().xaxis.set_ticks_position('bottom')\n",
    "plt.xlabel(\"Neuron densities [$mm^{-3}$]\")\n",
    "plt.tight_layout()\n",
    "plt.savefig(join(OUTPUT_FOLDER, 'L1_dens_comparison.png'), dpi=200, facecolor=\"white\")"
   ],
   "metadata": {
    "collapsed": false,
    "pycharm": {
     "name": "#%%\n"
    }
   }
  },
  {
   "cell_type": "code",
   "execution_count": null,
   "outputs": [],
   "source": [
    "ids_regions_cbx = [list(region_map.find(\"@.*\" + re.escape(name) + \"$\", attr=\"name\")) for name in names_cbx]"
   ],
   "metadata": {
    "collapsed": false,
    "pycharm": {
     "name": "#%%\n"
    }
   }
  },
  {
   "cell_type": "code",
   "execution_count": null,
   "outputs": [],
   "source": [
    "# Extract generated density values of the Cell Atlas for each cerebellar region\n",
    "# The ccfv3 does not have the granular molecular subdivisions so it is not compared to the others.\n",
    "ccf_densities_cbx = np.zeros((len(ccfs), len(names_cbx)), dtype=float)\n",
    "ccf_cbx = ccfs[:-1]\n",
    "for i, ccf in enumerate(ccf_cbx):\n",
    "    annotation = VoxelData.load_nrrd(join(DATA_FOLDER, ccf, annotation_file)).raw\n",
    "    neuron_density = VoxelData.load_nrrd(join(DATA_FOLDER, ccf, neuron_density_file)).raw\n",
    "    for j, id_ in enumerate(ids_regions_cbx):\n",
    "        ccf_densities_cbx[i, j] = np.mean(neuron_density[np.isin(annotation, id_)])"
   ],
   "metadata": {
    "collapsed": false,
    "pycharm": {
     "name": "#%%\n"
    }
   }
  },
  {
   "cell_type": "markdown",
   "source": [
    "Densities of granular layer are an order of magnitude greater than the molecular layer\n",
    "This makes it difficult to see the differences between the ccfs versions\n",
    "To counter this problem, we are normalizing according to the largest value for each region."
   ],
   "metadata": {
    "collapsed": false,
    "pycharm": {
     "name": "#%% md\n"
    }
   }
  },
  {
   "cell_type": "code",
   "execution_count": null,
   "outputs": [],
   "source": [
    "fig = plt.figure(figsize=(15,10))\n",
    "plt.ticklabel_format(style='sci', axis='x', scilimits=(0,0))\n",
    "width = 1.0 / (len(ccf_cbx) + 1) - 0.02\n",
    "\n",
    "max_cbx = np.max(ccf_densities_cbx, axis=0)\n",
    "for i, ccf in enumerate(ccf_cbx):\n",
    "    x = np.arange(len(names_cbx)) * (width + 0.02) * (len(ccf_cbx) + 1) + (width * i + width / 2)\n",
    "    plt.barh(x, np.array(ccf_densities_cbx[i]) / max_cbx, height=width, color = CBcdict[ccf_color_keys[i]])\n",
    "x = np.arange(len(names_cbx)) * (width + 0.02) * (len(ccf_cbx) + 1) + (width * len(ccf_cbx) + width / 2)\n",
    "bar4 = plt.barh(x, np.array(lit_means_cbx) / max_cbx,\n",
    "                height=width, color = CBcdict[\"Ve\"], edgecolor='black', linewidth=5)\n",
    "for ibar, bar in enumerate(bar4):\n",
    "    plt.annotate(lit_refs_cbx[ibar],xy=(bar.get_width(), bar.get_y() + bar.get_height() / 2),\n",
    "                 xytext=(50, 0),\n",
    "                 textcoords=\"offset points\",\n",
    "                 ha='left', va='center')\n",
    "\n",
    "plt.yticks((x.astype(float)), abvs_cbx)\n",
    "plt.ylim([0, len(x)])\n",
    "plt.gca().spines['right'].set_visible(False)\n",
    "plt.gca().spines['top'].set_visible(False)\n",
    "plt.gca().yaxis.set_ticks_position('left')\n",
    "plt.gca().xaxis.set_ticks_position('bottom')\n",
    "plt.xlabel(\"Neuron densities [$mm^{-3}$]\")\n",
    "plt.tight_layout()\n",
    "plt.savefig(join(OUTPUT_FOLDER, 'cereb_dens_comparison.png'), dpi=200, facecolor=\"white\")"
   ],
   "metadata": {
    "collapsed": false,
    "pycharm": {
     "name": "#%%\n"
    }
   }
  },
  {
   "cell_type": "code",
   "execution_count": null,
   "outputs": [],
   "source": [
    "# Plot the legend for previous figures in a separate figure.\n",
    "plt.figure(figsize=(7, 5))\n",
    "patchs = [patches.Patch(color=color) for color in [CBcdict[\"Ve\"]] + [CBcdict[k] for k in ccf_color_keys]]\n",
    "patchs[0].set_linewidth(3)\n",
    "patchs[0].set_ec('black')\n",
    "plt.axis(\"off\")\n",
    "plt.legend(patchs, ['Literature'] + ccf_fullname, loc='center')\n",
    "plt.tight_layout()\n",
    "plt.savefig(join(OUTPUT_FOLDER, 'legend_ann.png'), dpi=200, facecolor=\"white\")"
   ],
   "metadata": {
    "collapsed": false,
    "pycharm": {
     "name": "#%%\n"
    }
   }
  },
  {
   "cell_type": "markdown",
   "source": [
    "## Plot generated all densities against literature"
   ],
   "metadata": {
    "collapsed": false,
    "pycharm": {
     "name": "#%% md\n"
    }
   }
  },
  {
   "cell_type": "markdown",
   "source": [
    "We use here the literature values extracted from the review of Keller et al. 2018 (10.3389/fnana.2018.00083)\n",
    "The cell and neuron values from the studies are stored in the provided \"keller_review.json\""
   ],
   "metadata": {
    "collapsed": false,
    "pycharm": {
     "name": "#%% md\n"
    }
   }
  },
  {
   "cell_type": "code",
   "execution_count": 4,
   "outputs": [],
   "source": [
    "lit_dict_keller = json.load(open(\"../../atlas_densities/app/data/measurements/keller_review_2018.json\", \"r\"))"
   ],
   "metadata": {
    "collapsed": false,
    "pycharm": {
     "name": "#%%\n"
    }
   }
  },
  {
   "cell_type": "code",
   "execution_count": null,
   "outputs": [],
   "source": [
    "def hex_to_rgb(value):\n",
    "    \"\"\"\n",
    "    Converts a Hexadecimal color into its RGB value counterpart.\n",
    "\n",
    "    Args:\n",
    "        value: string hexadecimal color to convert.\n",
    "    Returns:\n",
    "        List of the Red, Green, and Blue components of the color\n",
    "    \"\"\"\n",
    "\n",
    "    value = value.lstrip('#')\n",
    "    lv = len(value)\n",
    "    return tuple(int(value[c:c + lv // 3], 16) for c in range(0, lv, lv // 3))"
   ],
   "metadata": {
    "collapsed": false,
    "pycharm": {
     "name": "#%%\n",
     "is_executing": true
    }
   }
  },
  {
   "cell_type": "markdown",
   "source": [
    "The loading of all the densities values takes some time and a lot of memory space. It is therefore adviced to run each ccf plot separately."
   ],
   "metadata": {
    "collapsed": false,
    "pycharm": {
     "name": "#%% md\n"
    }
   }
  },
  {
   "cell_type": "code",
   "execution_count": null,
   "outputs": [],
   "source": [
    "ccf = ccfs[0]\n",
    "cellCategories = [\"Cells\", \"Neurons\"]\n",
    "print(\"Loading generated densities for: \" + ccf)\n",
    "annotation = VoxelData.load_nrrd(join(DATA_FOLDER, ccf, annotation_file)).raw\n",
    "neuron_density = VoxelData.load_nrrd(join(DATA_FOLDER, ccf, neuron_density_file)).raw\n",
    "cell_density = VoxelData.load_nrrd(join(DATA_FOLDER, ccf, neuron_density_file)).raw\n",
    "litArrayCCF = []\n",
    "genArrayCCF = []\n",
    "clrArrayCCF = []\n",
    "categoryCCF = []\n",
    "for icategory, (category_name, density_file) in enumerate(zip(cellCategories, [cell_density, neuron_density])):\n",
    "    print(\"Loading \" + category_name)\n",
    "    litDicts = lit_dict_keller[category_name]\n",
    "    litArray = []\n",
    "    genArray = []\n",
    "    clrArray = []\n",
    "    for region_name, (values, ref) in litDicts.items():\n",
    "        ids_regions = list(region_map.find(region_name, attr=\"name\", with_descendants=True))\n",
    "        if ids_regions:\n",
    "            filter_region = np.isin(annotation, ids_regions)\n",
    "            if filter_region.any():\n",
    "                genArray.append(np.nanmean(density_file[filter_region]))\n",
    "                litArray.append(values)\n",
    "                clrArray.append(hex_to_rgb(region_map.get(ids_regions[0], \"color_hex_triplet\")))\n",
    "    litArrayCCF += litArray\n",
    "    genArrayCCF += genArray\n",
    "    clrArrayCCF += clrArray\n",
    "    categoryCCF += [icategory] * len(litArray)\n",
    "clrArrayCCF = np.array(clrArrayCCF) / 255"
   ],
   "metadata": {
    "collapsed": false,
    "pycharm": {
     "name": "#%%\n"
    }
   }
  },
  {
   "cell_type": "code",
   "execution_count": null,
   "outputs": [],
   "source": [
    "markers = ['o','v']\n",
    "figScale = 1.8\n",
    "oriFS =  7.0\n",
    "ms_ = 14.0\n",
    "lims = np.array([1e4, 2323608.559230513])\n",
    "\n",
    "fig, ax = plt.subplots(figsize=(10, 10))\n",
    "ax.tick_params(top=True, labeltop=True, right=True, labelright=True)\n",
    "ax.loglog(lims, lims, \"-\", color = 'black')\n",
    "ax.plot(lims * 4.1486, lims, \"--\", color='black')\n",
    "ax.plot(lims / 4.1486, lims, \"--\", color ='black')\n",
    "for il in range(len(litArrayCCF)):\n",
    "    ax.loglog(len(litArrayCCF[il]) * [genArrayCCF[il]], litArrayCCF[il], marker=markers[categoryCCF[il]], c=clrArrayCCF[il], markersize=ms_)\n",
    "    if len(litArrayCCF[il])>1:\n",
    "        ax.loglog(len(litArrayCCF[il])*[genArrayCCF[il]], litArrayCCF[il], color=clrArrayCCF[il], linewidth=ms_ * 0.25 )\n",
    "ax.set_ylabel(r\"Literature density [$mm^{-3}$]\")\n",
    "ax.set_xlabel(r\"Generated density [$mm^{-3}$]\")\n",
    "ax.set_xlim(lims)\n",
    "ax.set_ylim(lims)\n",
    "ax.tick_params(axis='x', which='major', pad=20)\n",
    "ax.tick_params(which='both', direction='in', labeltop=False, labelright=False)\n",
    "plt.legend([lines.Line2D([0], [0], linestyle='none', mfc='black', color='black', marker=item) for item in np.array(markers)], np.array(cellCategories),\n",
    "       numpoints=1, markerscale=2.0, loc=\"upper left\", borderaxespad=0.0, fontsize=30)\n",
    "plt.tight_layout(pad=0)\n",
    "plt.savefig(join(OUTPUT_FOLDER, \"cell_distribution\", \"Lit_Gen_\"+ccf+\".png\"), dpi=200, facecolor=\"white\")"
   ],
   "metadata": {
    "collapsed": false,
    "pycharm": {
     "name": "#%%\n"
    }
   }
  },
  {
   "cell_type": "markdown",
   "source": [
    "## Plot histogram of generated densities"
   ],
   "metadata": {
    "collapsed": false,
    "pycharm": {
     "name": "#%% md\n"
    }
   }
  },
  {
   "cell_type": "code",
   "execution_count": null,
   "outputs": [],
   "source": [
    "all_regions_id = region_map.find(\"Basic cell groups and regions\", attr=\"name\", with_descendants=True)\n",
    "genArray = []\n",
    "clrArray = []\n",
    "print(\"Loading all neuron densities for \" + ccf)\n",
    "for id_ in all_regions_id:\n",
    "    ids_regions = list(region_map.find(id_, attr=\"id\", with_descendants=True))\n",
    "    filter_region = np.isin(annotation, ids_regions)\n",
    "    if filter_region.any():\n",
    "        genArray.append(np.nanmean(neuron_density[filter_region]))\n",
    "        clrArray.append(hex_to_rgb(region_map.get(id_, \"color_hex_triplet\")))\n",
    "clrArray = np.array(clrArray) / 255"
   ],
   "metadata": {
    "collapsed": false,
    "pycharm": {
     "name": "#%%\n"
    }
   }
  },
  {
   "cell_type": "code",
   "execution_count": null,
   "outputs": [],
   "source": [
    "epsilon = 1e-5\n",
    "nb_bins = 150\n",
    "ff,ax=plt.subplots(figsize=(10, 10))\n",
    "binsTMP = np.logspace(np.log10(1.0), np.log10(np.max(np.array(genArray)) + epsilon), nb_bins)\n",
    "_, bins_, _ = plt.hist(genArray, bins = binsTMP, edgecolor='black', linewidth=1.2)\n",
    "bin_densities = [[] for _ in range(nb_bins - 1)]\n",
    "\n",
    "for i, density in enumerate(genArray):\n",
    "    binID = np.where(density <= np.array(bins_))[0][0] - 1  # First bin greater than density\n",
    "    bin_densities[binID].append(i)\n",
    "\n",
    "for i, bin_ in enumerate(bin_densities):\n",
    "    tmpArrayForSorting = []\n",
    "    for index_dens in bin_:\n",
    "        # Sort regions by color green on top, yellow at bottom\n",
    "        tmpArrayForSorting.append(-(clrArray[index_dens][0] * 255 * 255 + clrArray[index_dens][1] * 255 + clrArray[index_dens][2]))\n",
    "    bin_values_sorted = np.array(bin_)[np.argsort(np.array(tmpArrayForSorting))]\n",
    "\n",
    "    for iaaV, aaV in enumerate(bin_values_sorted):\n",
    "        ax.add_patch(patches.Rectangle((bins_[i], iaaV),\n",
    "                                        width=bins_[i+1] - bins_[i], height=1.0,\n",
    "                                        color=np.array(clrArray[aaV])))\n",
    "res = plt.hist(genArray, bins=binsTMP, fill=False,\n",
    "               histtype='step', color = \"black\", linewidth=2.0)\n",
    "plt.gca().set_xscale(\"log\")\n",
    "plt.xlabel(\"Neuron density [$mm^{-3}$]\")\n",
    "plt.ylabel(\"Number of regions\")\n",
    "plt.xlim(lims)\n",
    "plt.ylim([0, 65])\n",
    "plt.tick_params(which='both', direction='in', labeltop=False, labelright=False)\n",
    "\n",
    "ax.tick_params(axis='x', which='major', pad=20)\n",
    "plt.tight_layout(pad=0)\n",
    "plt.savefig(join(OUTPUT_FOLDER, \"histNeuronDens_\"+ ccf + \".png\"),\n",
    "            dpi=200, facecolor=\"white\")"
   ],
   "metadata": {
    "collapsed": false,
    "pycharm": {
     "name": "#%%\n"
    }
   }
  },
  {
   "cell_type": "code",
   "execution_count": null,
   "outputs": [],
   "source": [],
   "metadata": {
    "collapsed": false,
    "pycharm": {
     "name": "#%%\n"
    }
   }
  }
 ],
 "metadata": {
  "kernelspec": {
   "display_name": "Python 3",
   "language": "python",
   "name": "python3"
  },
  "language_info": {
   "codemirror_mode": {
    "name": "ipython",
    "version": 2
   },
   "file_extension": ".py",
   "mimetype": "text/x-python",
   "name": "python",
   "nbconvert_exporter": "python",
   "pygments_lexer": "ipython2",
   "version": "2.7.6"
  }
 },
 "nbformat": 4,
 "nbformat_minor": 0
}