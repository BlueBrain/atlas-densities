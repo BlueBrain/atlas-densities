{
 "cells": [
  {
   "cell_type": "markdown",
   "id": "085d0675",
   "metadata": {},
   "source": [
    "# Bringing out brain regions"
   ]
  },
  {
   "cell_type": "markdown",
   "id": "00c8e9a4",
   "metadata": {},
   "source": [
    "## Description"
   ]
  },
  {
   "cell_type": "markdown",
   "id": "0620ee65",
   "metadata": {},
   "source": [
    "This tool allows us to **hightlight one or more regions of interest in the mouse brain** and visualize them in coronal, sagittal or transversal section.    \n",
    "The mouse brain reference volumes are a pair of volumetric files from the Allen Institute for Brain Science (**AIBS**): the Nissl and the annotation volumes. \n",
    "More specifically:   \n",
    "* the **Nissl volume** shows every cell in the brain and it is used to obtain the cell distribution\n",
    "* the **annotation volume** provides a brain region ID for each voxel of the Nissl volume and any volumetric dataset of the AIBS. \n",
    "\n",
    "The mouse brain regions are organized in a hierarchical tree and this **hierarchy** is stored in a **json file**, common to each reference atlas version (it is also available on the AIBS website). In this hierarchical tree every region is divided in subregions wich, in turn, are divided in other subregions and so on, with the leaves of the tree representing the finest subdivisions captured by the AIBS.  \n"
   ]
  },
  {
   "cell_type": "markdown",
   "id": "e3472804",
   "metadata": {},
   "source": [
    "Here are some preliminary steps: this tool needs some modules to work properly, so we need to import them first"
   ]
  },
  {
   "cell_type": "code",
   "execution_count": null,
   "id": "5d58473b",
   "metadata": {},
   "outputs": [],
   "source": [
    "import numpy as np\n",
    "from voxcell import RegionMap, VoxelData\n",
    "from os.path import join\n",
    "from matplotlib.pylab import plt\n",
    "import ipywidgets"
   ]
  },
  {
   "cell_type": "markdown",
   "id": "6c9f368a",
   "metadata": {},
   "source": [
    "\n",
    "Set below (**DATA_FOLDER**) the path to the folder containing the data, including the annotations volumes, the Nissl volumes and the json hierarchy file.\n",
    "\n",
    "Set also the folder in which the figures produced will be stored (**OUTPUT_FOLDER**).\n"
   ]
  },
  {
   "cell_type": "code",
   "execution_count": null,
   "id": "4c786456",
   "metadata": {},
   "outputs": [],
   "source": [
    "DATA_FOLDER = 'path/to/data/'\n",
    "OUTPUT_FOLDER = \"path/to/output\""
   ]
  },
  {
   "cell_type": "markdown",
   "id": "73a20b28-0834-45d4-8198-fdfb34a4ae3f",
   "metadata": {},
   "source": [
    "The data required to run the notebook will be provided before the hands-on session. \n",
    "It can also be download if directly on the AIBS website at the following links:\n",
    "- http://api.brain-map.org/api/v2/structure_graph_download/1.json\n",
    "- http://download.alleninstitute.org/informatics-archive/current-release/mouse_ccf/annotation/mouse_2011/annotation_25.nrrd\n",
    "- http://download.alleninstitute.org/informatics-archive/current-release/mouse_ccf/ara_nissl/ara_nissl_25.nrrd\n",
    "\n",
    "These three files need to be put in your **DATA_FOLDER**."
   ]
  },
  {
   "cell_type": "markdown",
   "id": "0e43d87e",
   "metadata": {},
   "source": [
    "Now, we load the following files: \n",
    "* the json file containing the hierarchy of the brain regions\n",
    "* the annotation volume file \n",
    "* the nissl volume file \n"
   ]
  },
  {
   "cell_type": "code",
   "execution_count": null,
   "id": "32ecad3c",
   "metadata": {},
   "outputs": [],
   "source": [
    "region_map = RegionMap.load_json(join(DATA_FOLDER, \"1.json\"))\n",
    "annotation = VoxelData.load_nrrd(join(DATA_FOLDER, \"annotation_25.nrrd\")).raw\n",
    "nissl = VoxelData.load_nrrd(join(DATA_FOLDER, \"ara_nissl_25.nrrd\")).raw"
   ]
  },
  {
   "cell_type": "markdown",
   "id": "4ecaea77",
   "metadata": {},
   "source": [
    "In the following section, wecreate a function to convert a Hexadecimal color into its RGB value counterpart; you will need this later."
   ]
  },
  {
   "cell_type": "code",
   "execution_count": null,
   "id": "f42a6e63",
   "metadata": {},
   "outputs": [],
   "source": [
    "def hex_to_rgb(value):\n",
    "    \"\"\"\n",
    "    Converts a Hexadecimal color into its RGB value counterpart.\n",
    "\n",
    "    Arguments:\n",
    "        value: string hexadecimal color to convert.\n",
    "    Returns:\n",
    "        List of the Red, Green, and Blue components of the color\n",
    "    \"\"\"\n",
    "\n",
    "    value = value.lstrip('#')\n",
    "    lv = len(value)\n",
    "    return np.array([int(value[i:i + lv // 3], 16) for i in range(0, lv, lv // 3)])\n"
   ]
  },
  {
   "cell_type": "markdown",
   "id": "824217ba",
   "metadata": {},
   "source": [
    "## Learn how to find regions in the hierarchy"
   ]
  },
  {
   "cell_type": "markdown",
   "id": "3fc5d795",
   "metadata": {},
   "source": [
    "To do the plot, we need to be able to find informations about the regions that we want to highlight. \n",
    "In this section, you will learn how to navigate easily into the hierarchical organisation of the mouse brain with the *voxcell* module.  \n",
    "\n",
    "#### Find IDs in the annotation volume\n",
    "First of all, let's display the documentation about the function *region_map.find*"
   ]
  },
  {
   "cell_type": "code",
   "execution_count": null,
   "id": "f1157387",
   "metadata": {},
   "outputs": [],
   "source": [
    "region_map.find?"
   ]
  },
  {
   "cell_type": "markdown",
   "id": "9a12b108",
   "metadata": {},
   "source": [
    "This function allows ous to search regions matching your request. It will return a set of IDs of regions matching the request. \n",
    "\n",
    "We can do a request on the following attributes: \n",
    "* **name**: the name of the region\n",
    "* **acronym**: the acronym of the region  \n",
    "* **atlas ID**: additional ID only used by the AIBS \n",
    "* **color_hex_triplet**: the hexadecimal color code associated to the region \n",
    "* **graph_order**: the position of the region in the file\n",
    "* **st_level**: the hierarchy level associated to the region (the root region in 0 and the finest parcellations are 11)\n",
    "* **hemisphere_id**: 3 if the region is on both hemispheres  \n",
    "* **parent_structure_id**: ID of the parent region in the hierarchy \n",
    "\n",
    "These attributes correspond to the fields of each region within the json hierarchy file.\n",
    " For exemple, for the isocortex region:\n",
    "```json\n",
    "{\n",
    "               \"id\": 315,\n",
    "               \"atlas_id\": 746,\n",
    "               \"ontology_id\": 1,\n",
    "               \"acronym\": \"Isocortex\",\n",
    "               \"name\": \"Isocortex\",\n",
    "               \"color_hex_triplet\": \"70FF71\",\n",
    "               \"graph_order\": 5,\n",
    "               \"st_level\": 5,\n",
    "               \"hemisphere_id\": 3,\n",
    "               \"parent_structure_id\": 695,\n",
    "               \"children\": [...]  # some regions have children or subregions and they will be listed here            \n",
    "}\n",
    "```\n",
    "Let's test the function, with a simple example.\n",
    "\n",
    "There are two required parameters for the function: the attribute (attr) and the value (value).\n",
    "Choose the type of attribute in *\\\"attribute\\\"*.  After that, put the corresponding value in *\\\"region_info\\\"* (it should correspond to the value given in the json file). For example, if the attribute is \"name\", the parameter \"region_info\" should be the name of the region of interest.\n",
    "When you run, the algorithm will return the corresponding ID.  "
   ]
  },
  {
   "cell_type": "code",
   "execution_count": null,
   "id": "485e4b51",
   "metadata": {},
   "outputs": [],
   "source": [
    "attribute = \"name\"\n",
    "region_info = \"Isocortex\"\n",
    "region_map.find(region_info, attr=attribute)"
   ]
  },
  {
   "cell_type": "markdown",
   "id": "74a439a6",
   "metadata": {},
   "source": [
    "If you are searching for text values (e.g.: for the attributes \"name\", \"acronym\", etc.), the function requires you to provide the text taking into account the case (i.e: the presence or absence of capital letters).\n",
    "Fortunately, there is a parameter in the find function to ignore the case: *\\\"ignore_case\\\"*. "
   ]
  },
  {
   "cell_type": "code",
   "execution_count": null,
   "id": "8b63f832",
   "metadata": {},
   "outputs": [],
   "source": [
    "attribute = \"name\"\n",
    "region_info = \"ISoCoRTex\"\n",
    "region_map.find(region_info, attr=attribute, ignore_case=True)"
   ]
  },
  {
   "cell_type": "markdown",
   "id": "77dfa77a",
   "metadata": {},
   "source": [
    "You can also search using a regular expression (https://docs.python.org/3/howto/regex.html) for text values. For exemple, here we are searching for every region containg \"cortex\" in their name. So it should return not only isocortex but all the regions matching the regular expression. "
   ]
  },
  {
   "cell_type": "code",
   "execution_count": null,
   "id": "89954869",
   "metadata": {},
   "outputs": [],
   "source": [
    "attribute = \"name\"\n",
    "region_info = \"@.*cortex.*$\"\n",
    "region_map.find(region_info, attr=attribute, ignore_case=True)"
   ]
  },
  {
   "cell_type": "markdown",
   "id": "7509b763",
   "metadata": {},
   "source": [
    "Finally, there is the option to return the descendence of the regions you are searching. You can add the parameter *\\\"with_descendants\\\"* in the find function. Descendant regions correspond to subregions contained into the region of interest. "
   ]
  },
  {
   "cell_type": "code",
   "execution_count": null,
   "id": "ff3dc08a",
   "metadata": {},
   "outputs": [],
   "source": [
    "attribute = \"name\"\n",
    "region_info = \"Isocortex\"\n",
    "region_map.find(region_info, attr=attribute, ignore_case=True, with_descendants=True)"
   ]
  },
  {
   "cell_type": "markdown",
   "id": "f69c01c0",
   "metadata": {},
   "source": [
    "#### Find values according to IDs\n",
    "Once we have found the ID of the region of interest, we can also obtain information associated with it. \n",
    "\n",
    "First of all, let's display the documentation about the function *region_map.get*"
   ]
  },
  {
   "cell_type": "code",
   "execution_count": null,
   "id": "a7838f3b",
   "metadata": {},
   "outputs": [],
   "source": [
    "region_map.get?"
   ]
  },
  {
   "cell_type": "markdown",
   "id": "e87b8233",
   "metadata": {},
   "source": [
    "Now you can try it. Write down an ID (in \"region_ID\") and the type of attribute that you want to display (in \"attribute\")"
   ]
  },
  {
   "cell_type": "code",
   "execution_count": null,
   "id": "80a700f8",
   "metadata": {},
   "outputs": [],
   "source": [
    "region_ID = 315\n",
    "attribute = \"name\" # \"acronym\", etc.\n",
    "region_map.get(region_ID, attribute)"
   ]
  },
  {
   "cell_type": "markdown",
   "id": "62eea055",
   "metadata": {},
   "source": [
    "#### Exercises"
   ]
  },
  {
   "cell_type": "markdown",
   "id": "d43b7297",
   "metadata": {},
   "source": [
    "Here are two exercises for you to see if you have understood everything: \n",
    "1) find all regions that belong to the hippocampus (you may have to open the json hierarchy file to find its correct name)\n",
    "2) use the function region_map.get to find the name of the parent region of the region cerebellum."
   ]
  },
  {
   "cell_type": "code",
   "execution_count": null,
   "id": "21104019",
   "metadata": {},
   "outputs": [],
   "source": [
    "# TYPE YOUR CODE HERE "
   ]
  },
  {
   "cell_type": "markdown",
   "id": "46d93108",
   "metadata": {
    "tags": []
   },
   "source": [
    "#### Answers to exercises:\n",
    "Double click on this cell to display the answers\n",
    "<!---\n",
    "1)   {19,375,382,391,399,407,415,423,431,438,446,454,463,471,479,486,495,504,632,726,734,742,751,758,766,775,782,790,799,807,815,823,982,1080,10702,10703,10704} \n",
    "\n",
    "2) \"Basic cell groups and regions\"\n",
    "--->\n",
    "\n"
   ]
  },
  {
   "cell_type": "markdown",
   "id": "fab57a85",
   "metadata": {},
   "source": [
    "Congratulations! Now you know your way around the hierarchy."
   ]
  },
  {
   "cell_type": "markdown",
   "id": "3894412c",
   "metadata": {},
   "source": [
    "## Parameters for the plot"
   ]
  },
  {
   "cell_type": "markdown",
   "id": "1b0c5e69",
   "metadata": {},
   "source": [
    "Now that you know how the hierarchy works, we are going to plot the annotation volume on top of the Nissl volume, selecting a list of region to highlight. \n",
    "This is the interesting part and where you can play: choose below one or more regions that you want to highlight!  \n",
    "\n",
    "*Be careful*: the name of the region has to be written in the same way as it is in the json file, but it not necessarily has to be the full name "
   ]
  },
  {
   "cell_type": "code",
   "execution_count": null,
   "id": "22183ddc",
   "metadata": {},
   "outputs": [],
   "source": [
    "regions_to_highlight = [\"raphe nuclei\"]"
   ]
  },
  {
   "cell_type": "markdown",
   "id": "abd72090",
   "metadata": {},
   "source": [
    "### Filtering the regions of interest"
   ]
  },
  {
   "cell_type": "markdown",
   "id": "958c4d14",
   "metadata": {},
   "source": [
    "In the following part, the algorithm picks up the IDs of the selected regions (in *\\\"region_to_highlight\\\"*) and their descendants. "
   ]
  },
  {
   "cell_type": "code",
   "execution_count": null,
   "id": "2bfdc4fa",
   "metadata": {},
   "outputs": [],
   "source": [
    "ids_region = []\n",
    "for region_name in regions_to_highlight:\n",
    "    ids_roi=list(region_map.find(\"@.*{}.*$\".format(region_name), \n",
    "                                           attr=\"name\", with_descendants=True, \n",
    "                                           ignore_case=True))\n",
    "\n",
    "    # if the name does not correspond to an existing region in the json file, an error message will be displayed \n",
    "    if len(ids_roi)==0:\n",
    "        print(\"WARNING: No region found for: {}\".format(region_name))  \n",
    "        continue\n",
    "    ids_region.append(ids_roi)\n",
    "\n",
    "if len(ids_region)==0:\n",
    "    print(\"WARNING: No region selected, please select at least one valid region\")"
   ]
  },
  {
   "cell_type": "markdown",
   "id": "4928161f",
   "metadata": {},
   "source": [
    "Now, it assigns a color for each voxel in the Annotation volume corresponding to the IDs in *region_to_highlight*"
   ]
  },
  {
   "cell_type": "code",
   "execution_count": null,
   "id": "15cb6c31",
   "metadata": {},
   "outputs": [],
   "source": [
    "colored_annotations = np.full(annotation.shape + (4,), 1.)\n",
    "colored_annotations[:,:,:,3] = 0.\n",
    "first_pos = np.zeros(3) # starting slice positions for each axis (coronal, axial, sagittal) for the figure (\"default slice\")\n",
    "max_counts = np.zeros(3) # count maximum number of voxel in slice corresponding to the regions of interest for each axis \n",
    "\n",
    "for id_reg in ids_region:\n",
    "    ann_filt = np.isin(annotation, id_reg) \n",
    "    color = hex_to_rgb(region_map.get(id_reg[0], attr=\"color_hex_triplet\")) / 255. # get the color of one of the regions of the list (the regions of interest and its subregions). \n",
    "    colored_annotations[ann_filt, :3] = color # set rgb color of the region \n",
    "    colored_annotations[ann_filt, 3] = 0.5 # set transparence \n",
    "\n",
    "    # the following lines ensure that the default slice (pictured in the next section) contains the maximum number of voxel of the selected regions:\n",
    "    for i, dim in enumerate(np.where(ann_filt)):\n",
    "        u, c = np.unique(dim, return_counts=True)\n",
    "        argmax_c = np.argmax(c) \n",
    "        max_c = c[argmax_c]\n",
    "        if max_c > max_counts[i]:\n",
    "            first_pos[i] = u[argmax_c]\n",
    "            max_counts[i] = max_c"
   ]
  },
  {
   "cell_type": "markdown",
   "id": "6afa0cf3",
   "metadata": {},
   "source": [
    "## Visualize brain slices"
   ]
  },
  {
   "cell_type": "markdown",
   "id": "628d53c1",
   "metadata": {},
   "source": [
    "Now we can display brain slices with the selected region highlighted!\n",
    "After running the following lines, you will see the the default *coronal slice*, containing the maximum number of voxel corrisponding to the selected regions, with these regions colored. You can choose the desired slice moving the cursor back and forth, holding down the left mouse button until you reach it. In the \"direction\" toolbar above the slice, you can choose to display:\n",
    "* **sagittal slices**\n",
    "* **coronal slices**\n",
    "* **axial slices**"
   ]
  },
  {
   "cell_type": "code",
   "execution_count": null,
   "id": "1d0e8ee8",
   "metadata": {},
   "outputs": [],
   "source": [
    "cmap = plt.cm.gray  # color map for Nissl\n",
    "axes_ = [\"coronal\", \"axial\", \"sagittal\"]\n",
    "@ipywidgets.interact\n",
    "def f_final_outer(direction=ipywidgets.Dropdown(options=axes_)):\n",
    "    direction = axes_.index(direction)\n",
    "    @ipywidgets.interact\n",
    "    def f_final_inner(slice_position=ipywidgets.IntSlider(value=first_pos[direction],\n",
    "                                             min=0, max=annotation.shape[direction] - 1, \n",
    "                                             continuous_update=False)):\n",
    "        fig, ax = plt.subplots(figsize=(15, 9.1))\n",
    "        plt.suptitle('Section number: {}'.format(slice_position))\n",
    "        if direction ==2:\n",
    "            ax.imshow(np.take(1-nissl, slice_position, axis=direction).T, cmap=cmap, interpolation=\"nearest\")\n",
    "            ax.imshow(np.moveaxis(np.take(colored_annotations, slice_position, axis=direction), 0, 1), interpolation=\"nearest\")\n",
    "        else:\n",
    "            ax.imshow(np.take(1-nissl, slice_position, axis=direction), cmap=cmap, interpolation=\"nearest\")\n",
    "            ax.imshow(np.take(colored_annotations, slice_position, axis=direction), interpolation=\"nearest\")\n",
    "        ax.axis('off')"
   ]
  },
  {
   "cell_type": "markdown",
   "id": "c86d6142",
   "metadata": {},
   "source": [
    "You can save a figure in the output folder: choose the slice position (parameter \"slice_position\") and the direction of the axis and it will be saved in your folder. For the direction, write: \n",
    "* 0 for the coronal axis\n",
    "* 1 for the axial axis \n",
    "* 2 for the sagittal axis"
   ]
  },
  {
   "cell_type": "code",
   "execution_count": null,
   "id": "d75bdb51",
   "metadata": {},
   "outputs": [],
   "source": [
    "axes_ = [\"coronal\", \"axial\", \"sagittal\"]\n",
    "slice_position = 300\n",
    "direction = 0 # 0 for coronal, 1 for axial and 2 for sagittal\n",
    "\n",
    "fig, ax = plt.subplots(figsize=(15, 9.1))\n",
    "if direction ==2:\n",
    "    ax.imshow(np.take(1-nissl, slice_position, axis=direction).T, cmap=cmap, interpolation=\"nearest\")\n",
    "    ax.imshow(np.moveaxis(np.take(colored_annotations, slice_position, axis=direction), 0, 1), interpolation=\"nearest\")\n",
    "else:\n",
    "    ax.imshow(np.take(1-nissl, slice_position, axis=direction), cmap=cmap, interpolation=\"nearest\")\n",
    "    ax.imshow(np.take(colored_annotations, slice_position, axis=direction), interpolation=\"nearest\")\n",
    "ax.axis('off')\n",
    "plt.savefig(join(OUTPUT_FOLDER, \"{}_slice_{}_nissl_ann.png\".format(axes_[direction], slice_position)), dpi=200)"
   ]
  },
  {
   "cell_type": "markdown",
   "id": "55c40a84",
   "metadata": {},
   "source": [
    "You can see brain regions in 3D on the Blue Brain Cell Atlas website at:  https://bbp.epfl.ch/nexus/cell-atlas/ "
   ]
  }
 ],
 "metadata": {
  "kernelspec": {
   "display_name": "Python 3 (ipykernel)",
   "language": "python",
   "name": "python3"
  },
  "language_info": {
   "codemirror_mode": {
    "name": "ipython",
    "version": 3
   },
   "file_extension": ".py",
   "mimetype": "text/x-python",
   "name": "python",
   "nbconvert_exporter": "python",
   "pygments_lexer": "ipython3",
   "version": "3.8.10"
  },
  "vscode": {
   "interpreter": {
    "hash": "557e08510a7ac8eda9060917f07a82caaf927435b150f5b9225ca148167d82c8"
   }
  }
 },
 "nbformat": 4,
 "nbformat_minor": 5
}
