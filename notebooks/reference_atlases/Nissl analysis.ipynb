{
 "cells": [
  {
   "cell_type": "markdown",
   "metadata": {
    "pycharm": {
     "name": "#%% md\n"
    }
   },
   "source": [
    "# Analysis of the Nissl volume expression"
   ]
  },
  {
   "cell_type": "markdown",
   "metadata": {
    "pycharm": {
     "name": "#%% md\n"
    }
   },
   "source": [
    "## Description"
   ]
  },
  {
   "cell_type": "markdown",
   "metadata": {
    "pycharm": {
     "name": "#%% md\n"
    }
   },
   "source": [
    "The mouse brain reference volumes are a pair of volumetric files from the Allen Institute for Brain Science (AIBS): the **Nissl** and the **annotations** volumes.\n",
    "\n",
    "The **Nissl volume** shows every cell in the brain. It is used to obtain the cell distribution in the mouse brain.\n",
    "The **annotations volume** provides a brain region id to each voxel of the Nissl volume and any volumetric dataset of the AIBS. The mouse brain regions are organized in a hierarchical tree, with leaves representing the finest subdivisions captured by the AIBS. This **hierarchy** is stored in a **json file** and is common to each reference atlas version. It is also available on the AIBS website.\n",
    "\n",
    "These two whole brain volumes exist in multiple versions and need to be aligned to each other to produce the best results in terms of cell density estimation (see https://doi.org/10.1101/2021.11.20.469384 for more details).\n",
    "\n",
    "The Nissl volume is derived from coronal slice image stacks from a whole brain Nissl staining experiment (see Dong 2007). The Nissl volume has therefore artefacts for the coronal slicing such as holes, tearing and stretching. There are also some slices that were under- or over-exposed when compared to other slices.\n",
    "\n",
    "Here we are plotting the distribution of the Nissl volume expression on the sagittal plane to highlight the differences in exposition of the different coronal slices."
   ]
  },
  {
   "cell_type": "code",
   "execution_count": null,
   "metadata": {
    "pycharm": {
     "name": "#%%\n"
    }
   },
   "outputs": [],
   "source": [
    "import numpy as np\n",
    "from voxcell import RegionMap, VoxelData\n",
    "from os.path import join\n",
    "from matplotlib.pylab import plt"
   ]
  },
  {
   "cell_type": "markdown",
   "metadata": {
    "pycharm": {
     "name": "#%% md\n"
    }
   },
   "source": [
    "Set below the path to the folder containing the data, including the annotations volumes, the Nissl volumes and the json hierarchy file.\n",
    "\n",
    "Set also the folder in which the figures produced will be stored."
   ]
  },
  {
   "cell_type": "code",
   "execution_count": null,
   "metadata": {
    "pycharm": {
     "name": "#%%\n"
    }
   },
   "outputs": [],
   "source": [
    "DATA_FOLDER = 'path/to/data/'\n",
    "OUTPUT_FOLDER = \"path/to/output\""
   ]
  },
  {
   "cell_type": "code",
   "execution_count": null,
   "metadata": {
    "pycharm": {
     "name": "#%%\n"
    }
   },
   "outputs": [],
   "source": [
    "region_map = RegionMap.load_json(join(DATA_FOLDER, \"brain_regions.json\"))\n",
    "annotation = VoxelData.load_nrrd(join(DATA_FOLDER, \"annotations.nrrd\")).raw\n",
    "nissl = VoxelData.load_nrrd(join(DATA_FOLDER, \"ara_nissl_25.nrrd\")).raw"
   ]
  },
  {
   "cell_type": "markdown",
   "metadata": {
    "pycharm": {
     "name": "#%% md\n"
    }
   },
   "source": [
    "## Set matplotlib parameters"
   ]
  },
  {
   "cell_type": "code",
   "execution_count": null,
   "metadata": {
    "pycharm": {
     "name": "#%%\n"
    }
   },
   "outputs": [],
   "source": [
    "SMALL_SIZE = 48\n",
    "MEDIUM_SIZE = 48\n",
    "BIGGER_SIZE = 48\n",
    "plt.rcParams[\"font.family\"] = \"Arial\"\n",
    "plt.rc('font', size=SMALL_SIZE)          # controls default text sizes\n",
    "plt.rc('axes', titlesize=BIGGER_SIZE)     # fontsize of the axes title\n",
    "plt.rc('axes', labelsize=MEDIUM_SIZE)    # fontsize of the x and y labels\n",
    "plt.rc('xtick', labelsize=SMALL_SIZE)    # fontsize of the tick labels\n",
    "plt.rc('ytick', labelsize=SMALL_SIZE)    # fontsize of the tick labels\n",
    "plt.rc('legend', fontsize=SMALL_SIZE)    # legend fontsize\n",
    "plt.rc('figure', titlesize=BIGGER_SIZE)  # fontsize of the figure title\n",
    "\n",
    "plt.rcParams['xtick.major.pad']  = 9.0\n",
    "plt.rcParams['axes.linewidth'] = 2.0\n",
    "plt.rcParams['xtick.major.size' ] = 7.0*3.0\n",
    "plt.rcParams['xtick.minor.size' ] = 4.0*3.0\n",
    "plt.rcParams['ytick.major.size' ] = 7.0*3.0\n",
    "plt.rcParams['ytick.minor.size' ] = 4.0*3.0\n",
    "plt.rcParams['xtick.major.width'] = 2.4\n",
    "plt.rcParams['xtick.minor.width'] = 1.8\n",
    "plt.rcParams['ytick.major.width'] = 2.4\n",
    "plt.rcParams['ytick.minor.width'] = 1.8\n",
    "\n",
    "# color dictionary\n",
    "CBcdict={\n",
    "    'Bl':np.array([0,0,0]),\n",
    "    'Or':np.array([.9,.6,0]),\n",
    "    'SB':np.array([.35,.7,.9]),\n",
    "    'bG':np.array([0,.6,.5]),\n",
    "    'Ye':np.array([.95,.9,.25]),\n",
    "    'Bu':np.array([0,.45,.7]),\n",
    "    'Ve':np.array([.8,.4,0]),\n",
    "    'rP':np.array([.8,.6,.7]),\n",
    "}"
   ]
  },
  {
   "cell_type": "markdown",
   "metadata": {
    "pycharm": {
     "name": "#%% md\n"
    }
   },
   "source": [
    "## Plot the median nissl value along the sagittal plane"
   ]
  },
  {
   "cell_type": "markdown",
   "metadata": {
    "pycharm": {
     "name": "#%% md\n"
    }
   },
   "source": [
    "### Sagittal plot of the original Nissl volume for comparison."
   ]
  },
  {
   "cell_type": "code",
   "execution_count": null,
   "metadata": {
    "pycharm": {
     "name": "#%%\n"
    },
    "scrolled": true
   },
   "outputs": [],
   "source": [
    "slice_ = 265 # int(annotation.shape[2] // 2.5)\n",
    "cmap = plt.cm.gray\n",
    "norm = plt.Normalize(nissl.min(), nissl.max())\n",
    "rgba = cmap(1-norm(nissl[:, :, slice_].T))\n",
    "\n",
    "rgba-=0.1\n",
    "rgba = np.maximum(rgba/np.max(rgba), 0)\n",
    "fig = plt.figure(figsize=(15, 9.1))\n",
    "plt.imshow(rgba, interpolation='nearest')\n",
    "\n",
    "plt.axis('off')\n",
    "plt.xlim([0, annotation.shape[0]])\n",
    "plt.ylim([annotation.shape[1], 0])\n",
    "plt.tight_layout(pad=0)\n",
    "plt.savefig(join(OUTPUT_FOLDER, \"sagittal_nissl.png\"), dpi=200)"
   ]
  },
  {
   "cell_type": "markdown",
   "metadata": {
    "pycharm": {
     "name": "#%% md\n"
    }
   },
   "source": [
    "### Sagittal plot of the median expression of the Nissl volume"
   ]
  },
  {
   "cell_type": "code",
   "execution_count": null,
   "metadata": {
    "pycharm": {
     "name": "#%%\n"
    }
   },
   "outputs": [],
   "source": [
    "filt = np.where(annotation!=0)\n",
    "x_pos = np.unique(filt[0])\n",
    "\n",
    "hist_nissl = np.zeros(len(x_pos))\n",
    "nissl_med = np.zeros((annotation.shape[0], annotation.shape[1], 1))\n",
    "for i, x in enumerate(x_pos):\n",
    "    subfilt = np.where(filt[0]==x)\n",
    "    hist_nissl[i] = np.median(nissl[x, filt[1][subfilt], filt[2][subfilt]])\n",
    "    for y in range(annotation.shape[1]):\n",
    "        loc_filt = nissl[x][y]\n",
    "        loc_ann = annotation[x][y] != 0\n",
    "        if np.any(loc_ann):\n",
    "            nissl_med[x][y][0] = np.median(loc_filt[loc_ann])"
   ]
  },
  {
   "cell_type": "markdown",
   "metadata": {
    "pycharm": {
     "name": "#%% md\n"
    }
   },
   "source": [
    "There are three major changes in Nissl expression that seem to be related to change in exposure of the coronal nissl slices."
   ]
  },
  {
   "cell_type": "code",
   "execution_count": null,
   "metadata": {
    "pycharm": {
     "name": "#%%\n"
    }
   },
   "outputs": [],
   "source": [
    "# exposure_change_slices = [119, 240, 360] # positions for the CCFbbp Nissl volume\n",
    "exposure_change_slices = [110, 230, 350] # for the CCFv2 / CCFv3 Nissl volume"
   ]
  },
  {
   "cell_type": "code",
   "execution_count": null,
   "metadata": {
    "pycharm": {
     "name": "#%%\n"
    }
   },
   "outputs": [],
   "source": [
    "cmap = plt.cm.gray\n",
    "norm = plt.Normalize(nissl_med.min(), nissl_med.max())\n",
    "rgba = cmap(1-norm(nissl_med[:, :, 0].T))\n",
    "\n",
    "rgba -= 0.1\n",
    "rgba = np.maximum(rgba/np.max(rgba), 0)\n",
    "fig = plt.figure(figsize=(15, 9.1))\n",
    "plt.imshow(rgba, interpolation='nearest')\n",
    "\n",
    "# Show the positions of the changes in Nissl expression\n",
    "plt.axvline(x=[exposure_change_slices[0]],\n",
    "            ymin=(np.max(np.where(nissl_med[exposure_change_slices[0],\n",
    "                                            :, 0]>0))) / annotation.shape[1], \n",
    "            color=CBcdict[\"Bu\"], linewidth=6)\n",
    "plt.axvline(x=[exposure_change_slices[0]], \n",
    "            ymax=(np.min(np.where(nissl_med[exposure_change_slices[0],\n",
    "                                            :, 0]>0)))/annotation.shape[1], \n",
    "            color=CBcdict[\"Bu\"], linewidth=6)\n",
    "\n",
    "plt.axvline(x=[exposure_change_slices[1]],\n",
    "            ymin=(np.max(np.where(nissl_med[exposure_change_slices[1],\n",
    "                                            :, 0]>0)) + 10) / annotation.shape[1], \n",
    "            color=CBcdict[\"Or\"], linewidth=6)\n",
    "plt.axvline(x=[exposure_change_slices[1]], \n",
    "            ymax=(np.min(np.where(nissl_med[exposure_change_slices[1],\n",
    "                                            :, 0]>0))) / annotation.shape[1], \n",
    "            color=CBcdict[\"Or\"], linewidth=6)\n",
    "\n",
    "plt.axvline(x=[exposure_change_slices[2]], \n",
    "            ymin=(np.max(np.where(nissl_med[exposure_change_slices[2],\n",
    "                                            :, 0]>0)) + 30) / annotation.shape[1], \n",
    "            color=CBcdict[\"bG\"], linewidth=6)\n",
    "plt.axvline(x=[exposure_change_slices[2]], \n",
    "            ymax=(np.min(np.where(nissl_med[exposure_change_slices[2],\n",
    "                                            :, 0]>0)) + 25) / annotation.shape[1], \n",
    "            color=CBcdict[\"bG\"], linewidth=6)\n",
    "\n",
    "plt.axis('off')\n",
    "plt.xlim([0, annotation.shape[0]])\n",
    "plt.ylim([annotation.shape[1], 0])\n",
    "plt.tight_layout(pad=0)\n",
    "plt.savefig(join(OUTPUT_FOLDER, \"sagittal_nissl_median.png\"), dpi=200)"
   ]
  },
  {
   "cell_type": "code",
   "execution_count": null,
   "metadata": {
    "pycharm": {
     "name": "#%%\n"
    }
   },
   "outputs": [],
   "source": [
    "fig = plt.figure(figsize=(15, 7))\n",
    "plt.axvline(x=[exposure_change_slices[0]],ymin=0, \n",
    "            color=CBcdict[\"Bu\"], linewidth=6)\n",
    "plt.axvline(x=[240],ymin=0, color=CBcdict[\"Or\"], linewidth=6)\n",
    "plt.axvline(x=[360],ymin=0, color=CBcdict[\"bG\"], linewidth=6)\n",
    "plt.plot(x_pos, hist_nissl, c='grey', linewidth=3)\n",
    "plt.xlabel(\"Coronal section position\")\n",
    "plt.ylabel(\"Median Nissl value\")\n",
    "max_ = np.max(hist_nissl)\n",
    "plt.xlim([0, annotation.shape[0]])\n",
    "plt.ylim([0, max_])\n",
    "plt.ticklabel_format(style='sci', axis='y', scilimits=(0,0))\n",
    "plt.title(\"Evolution of Nissl median value in Whole Brain\")\n",
    "plt.tight_layout(pad=0)\n",
    "plt.savefig(join(OUTPUT_FOLDER, \"distrib_nissl_median.png\"), dpi=200)"
   ]
  },
  {
   "cell_type": "markdown",
   "metadata": {
    "pycharm": {
     "name": "#%% md\n"
    }
   },
   "source": [
    "### Process median nissl value for isocortex"
   ]
  },
  {
   "cell_type": "code",
   "execution_count": null,
   "metadata": {
    "pycharm": {
     "name": "#%%\n"
    }
   },
   "outputs": [],
   "source": [
    "filt = np.isin(annotation, list(region_map.find(\"Isocortex\", \n",
    "                                                attr=\"name\", \n",
    "                                                with_descendants=True)))\n",
    "filt = np.where(filt)\n",
    "x_pos = np.unique(filt[0])\n",
    "\n",
    "hist_nissl = np.zeros(len(x_pos))\n",
    "for i, x in enumerate(x_pos):\n",
    "    subfilt = np.where(filt[0]==x)\n",
    "    hist_nissl[i]= np.median(nissl[x, filt[1][subfilt], \n",
    "                                   filt[2][subfilt]])"
   ]
  },
  {
   "cell_type": "code",
   "execution_count": null,
   "metadata": {
    "pycharm": {
     "name": "#%%\n"
    }
   },
   "outputs": [],
   "source": [
    "fig = plt.figure(figsize=(15, 7))\n",
    "plt.axvline(x=[exposure_change_slices[0]],ymin=0, \n",
    "            color=CBcdict[\"Bu\"], linewidth=6)\n",
    "plt.axvline(x=[exposure_change_slices[1]],ymin=0, \n",
    "            color=CBcdict[\"Or\"], linewidth=6)\n",
    "plt.axvline(x=[exposure_change_slices[2]],ymin=0, \n",
    "            color=CBcdict[\"bG\"], linewidth=6)\n",
    "plt.plot(x_pos, hist_nissl, c='grey', linewidth=3)\n",
    "plt.xlabel(\"Coronal section position\")\n",
    "plt.ylabel(\"Median Nissl value\")\n",
    "plt.xlim([0, annotation.shape[0]])\n",
    "max_ = np.max(hist_nissl)\n",
    "plt.ylim([0, max_])\n",
    "plt.ticklabel_format(style='sci', axis='y', scilimits=(0,0))\n",
    "plt.title(\"Evolution of Nissl median value in Isocortex\")\n",
    "plt.tight_layout(pad=0)\n",
    "plt.savefig(join(OUTPUT_FOLDER, \"distrib_nissl_median_ctx.png\"), dpi=200)"
   ]
  },
  {
   "cell_type": "code",
   "execution_count": null,
   "metadata": {
    "pycharm": {
     "name": "#%%\n"
    }
   },
   "outputs": [],
   "source": []
  }
 ],
 "metadata": {
  "kernelspec": {
   "display_name": "Python 3 (ipykernel)",
   "language": "python",
   "name": "python3"
  },
  "language_info": {
   "codemirror_mode": {
    "name": "ipython",
    "version": 3
   },
   "file_extension": ".py",
   "mimetype": "text/x-python",
   "name": "python",
   "nbconvert_exporter": "python",
   "pygments_lexer": "ipython3",
   "version": "3.8.10"
  }
 },
 "nbformat": 4,
 "nbformat_minor": 4
}