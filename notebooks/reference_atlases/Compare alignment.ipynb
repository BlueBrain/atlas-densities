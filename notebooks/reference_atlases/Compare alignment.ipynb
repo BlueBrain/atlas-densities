{
 "cells": [
  {
   "cell_type": "markdown",
   "metadata": {
    "pycharm": {
     "name": "#%% md\n"
    }
   },
   "source": [
    "# Compare alignment of the different versions of the reference atlases"
   ]
  },
  {
   "cell_type": "markdown",
   "metadata": {
    "pycharm": {
     "name": "#%% md\n"
    }
   },
   "source": [
    "## Description"
   ]
  },
  {
   "cell_type": "markdown",
   "metadata": {
    "pycharm": {
     "name": "#%% md\n"
    }
   },
   "source": [
    "The mouse brain reference volumes is a pair volumetric files from the Allen Institute for Brain Science (AIBS): the **Nissl** and the **annotations** volumes. \n",
    "\n",
    "The **Nissl volume** is used to obtain the cell distribution in the mouse brain.   \n",
    "The **annotations volume** provides a brain region id to each voxel of the Nissl volume and any volumetric dataset of the AIBS. The mouse brain regions are organized in a hierarchical tree, with leaves representing the finest subdivisions captured by the AIBS. This **hierarchy** is stored in a **json file** and is common to each reference atlas version. It is also available on the AIBS website.\n",
    "\n",
    "These two whole brain volumes exist in multiple versions and need to be aligned to each other to produce the best results in terms of cell density estimation (see https://doi.org/10.1101/2021.11.20.469384 for more details).\n",
    "\n",
    "To test the alignment between the different pairs of annotations volume and Nissl volume, we are plotting the annotations volumes in color on top of the Nissl volumes. "
   ]
  },
  {
   "cell_type": "code",
   "execution_count": null,
   "metadata": {
    "pycharm": {
     "name": "#%%\n"
    }
   },
   "outputs": [],
   "source": [
    "import numpy as np\n",
    "from os.path import join\n",
    "from voxcell import RegionMap, VoxelData\n",
    "import matplotlib.pylab as plt\n",
    "import matplotlib.patches as patches\n",
    "from scipy.ndimage import binary_dilation, generate_binary_structure"
   ]
  },
  {
   "cell_type": "markdown",
   "metadata": {
    "pycharm": {
     "name": "#%% md\n"
    }
   },
   "source": [
    "Set below the path to the folder containing the data, including the annotations volumes, the Nissl volumes and the json hierarchy file.\n",
    "\n",
    "Set also the folder in which the figures produced will be stored.\n",
    "\n",
    "We are comparing here three versions of the reference atlas pairs that we store in subfolders."
   ]
  },
  {
   "cell_type": "code",
   "execution_count": null,
   "metadata": {
    "pycharm": {
     "name": "#%%\n"
    }
   },
   "outputs": [],
   "source": [
    "DATA_FOLDER = 'path/to/data/'\n",
    "OUTPUT_FOLDER = \"/path/to/output/\"\n",
    "ccfs = [\"bbp\", \"ccfv2\", \"ccfv3\"]  # subfolders containing the annotations and Nissl volumes\n",
    "ccf_fullname = ['CCFbbp', 'CCFv2', 'CCFv3']  # names to display on the figure\n",
    "annotation_file = \"annotations.nrrd\"  # name given to each nrrd annotation file\n",
    "nissl_file = \"ara_nissl_25.nrrd\"  # name given to each nrrd Nissl file\n",
    "region_hierarchy_file = \"brain_regions.json\"  # mouse brain region hierarchy file (json)."
   ]
  },
  {
   "cell_type": "markdown",
   "metadata": {
    "pycharm": {
     "name": "#%% md\n"
    }
   },
   "source": [
    "## Set matplotlib parameters"
   ]
  },
  {
   "cell_type": "code",
   "execution_count": null,
   "metadata": {
    "pycharm": {
     "name": "#%%\n"
    }
   },
   "outputs": [],
   "source": [
    "SMALL_SIZE = 48\n",
    "MEDIUM_SIZE = 48\n",
    "BIGGER_SIZE = 48\n",
    "plt.rcParams[\"font.family\"] = \"Arial\"\n",
    "plt.rc('font', size=SMALL_SIZE)          # controls default text sizes\n",
    "plt.rc('axes', titlesize=BIGGER_SIZE)     # fontsize of the axes title\n",
    "plt.rc('axes', labelsize=MEDIUM_SIZE)    # fontsize of the x and y labels\n",
    "plt.rc('xtick', labelsize=SMALL_SIZE)    # fontsize of the tick labels\n",
    "plt.rc('ytick', labelsize=SMALL_SIZE)    # fontsize of the tick labels\n",
    "plt.rc('legend', fontsize=SMALL_SIZE)    # legend fontsize\n",
    "plt.rc('figure', titlesize=BIGGER_SIZE)  # fontsize of the figure title\n",
    "\n",
    "plt.rcParams['xtick.major.pad']  = 9.0\n",
    "plt.rcParams['axes.linewidth'] = 2.0\n",
    "plt.rcParams['xtick.major.size' ] = 7.0*3.0\n",
    "plt.rcParams['xtick.minor.size' ] = 4.0*3.0\n",
    "plt.rcParams['ytick.major.size' ] = 7.0*3.0\n",
    "plt.rcParams['ytick.minor.size' ] = 4.0*3.0\n",
    "plt.rcParams['xtick.major.width'] = 2.4\n",
    "plt.rcParams['xtick.minor.width'] = 1.8\n",
    "plt.rcParams['ytick.major.width'] = 2.4\n",
    "plt.rcParams['ytick.minor.width'] = 1.8\n",
    "\n",
    "# color dictionary\n",
    "CBcdict={\n",
    "    'Bl':np.array([0,0,0]),\n",
    "    'Or':np.array([.9,.6,0]),\n",
    "    'SB':np.array([.35,.7,.9]),\n",
    "    'bG':np.array([0,.6,.5]),\n",
    "    'Ye':np.array([.95,.9,.25]),\n",
    "    'Bu':np.array([0,.45,.7]),\n",
    "    'Ve':np.array([.8,.4,0]),\n",
    "    'rP':np.array([.8,.6,.7]),\n",
    "}"
   ]
  },
  {
   "cell_type": "markdown",
   "metadata": {
    "pycharm": {
     "name": "#%% md\n"
    }
   },
   "source": [
    "## Plot coronal slice of annotations on top of Nissl "
   ]
  },
  {
   "cell_type": "code",
   "execution_count": null,
   "metadata": {
    "pycharm": {
     "name": "#%%\n"
    }
   },
   "outputs": [],
   "source": [
    "cmap = plt.cm.gray  # cmap for Nissl\n",
    "struct = generate_binary_structure(3, 3)\n",
    "thickness = 1 # thickness of the boundary between regions\n",
    "region_map = RegionMap.load_json(join(DATA_FOLDER, region_hierarchy_file)) # load json hierarchy file"
   ]
  },
  {
   "cell_type": "markdown",
   "metadata": {
    "pycharm": {
     "name": "#%% md\n"
    }
   },
   "source": [
    "### Plot cerebellar cortex, granular and molecular layers"
   ]
  },
  {
   "cell_type": "code",
   "execution_count": null,
   "metadata": {
    "pycharm": {
     "name": "#%%\n"
    }
   },
   "outputs": [],
   "source": [
    "ids_cereb = region_map.find(\"Cerebellar cortex\", attr=\"name\", with_descendants=True)\n",
    "ids_layers = np.vstack((list(ids_cereb & region_map.find(\"@.*molecular layer$\", attr=\"name\", with_descendants=True)),\n",
    "                             list(ids_cereb & region_map.find(\"@.*granular layer$\", attr=\"name\", with_descendants=True))))\n",
    "ids_parents = np.array([region_map.get(id_, attr=\"parent_structure_id\") for id_ in ids_layers[0]])\n",
    "colors = {}\n",
    "for i, (id_parent, (id_mol, id_gran)) in enumerate(zip(ids_parents, ids_layers.T)):\n",
    "    color = list(CBcdict.values())[(i +1) % 7 + 1]\n",
    "    colors[id_parent] = color \n",
    "    colors[id_mol] = color * 0.5 \n",
    "    colors[id_gran] = color * 0.8"
   ]
  },
  {
   "cell_type": "code",
   "execution_count": null,
   "metadata": {
    "pycharm": {
     "name": "#%%\n"
    }
   },
   "outputs": [],
   "source": [
    "slice_ = 475  # coronal slice id showing cerebellum\n",
    "fig = plt.Figure(figsize=(30, 12))\n",
    "\n",
    "for i, ccf in enumerate(ccfs):\n",
    "    annotation = VoxelData.load_nrrd(join(DATA_FOLDER, ccf, annotation_file)).raw\n",
    "    nissl = VoxelData.load_nrrd(join(DATA_FOLDER, ccf, nissl_file)).raw\n",
    "    loc_slice = slice_\n",
    "\n",
    "    img = nissl[loc_slice, 42:annotation.shape[1] // 2+50, 50:annotation.shape[2] // 2]\n",
    "    ann_img = annotation[loc_slice, 42:annotation.shape[1] // 2+50, 50:annotation.shape[2] // 2]\n",
    "\n",
    "    norm = plt.Normalize(nissl.min(), nissl.max())\n",
    "    rgba = cmap(1-norm(img))\n",
    "    annotation[loc_slice-1] = 0 # Force annotation for 3d boundary\n",
    "    annotation[loc_slice+1] = 0\n",
    "\n",
    "    ann_filt = np.isin(annotation, ids_layers[0])\n",
    "    boundaries = binary_dilation(ann_filt, struct, iterations=thickness) * (np.isin(annotation, ids_layers[1]))\n",
    "    boundaries = boundaries[loc_slice, 42:annotation.shape[1] // 2+50, 50:annotation.shape[2] // 2] \n",
    "    rgba += 0.4\n",
    "    for id_, color in colors.items():\n",
    "        rgba[ann_img==id_, :3] -= color * 0.7\n",
    "    rgba[boundaries, :3] = CBcdict[\"Ye\"] + 0.3\n",
    "\n",
    "    rgba = np.maximum(rgba/np.max(rgba), 0)\n",
    "    ax = plt.subplot2grid((1,3), (0, i), rowspan=1, colspan=1)\n",
    "    ax.imshow(rgba, interpolation='nearest')\n",
    "    if i == 0:\n",
    "        x = 12\n",
    "        y = 15\n",
    "        ax.hlines(y=y, xmin=x, xmax=x+40, linewidth=15, color='black')\n",
    "        ax.text(x+18,y-5, \"1 mm\", weight='bold', horizontalalignment='center')\n",
    "\n",
    "    ax.axis('off')\n",
    "    ax.set_title(ccf_fullname[i])\n",
    "\n",
    "plt.tight_layout()\n",
    "plt.savefig(join(OUTPUT_FOLDER, 'annotation_Nissl_Cereb.png'), dpi=200, facecolor=\"white\")"
   ]
  },
  {
   "cell_type": "markdown",
   "metadata": {
    "pycharm": {
     "name": "#%% md\n"
    }
   },
   "source": [
    "### Plot Isocortex layers 1 and 2"
   ]
  },
  {
   "cell_type": "code",
   "execution_count": null,
   "metadata": {
    "pycharm": {
     "name": "#%%\n"
    }
   },
   "outputs": [],
   "source": [
    "ids_ctx = region_map.find(\"Isocortex\", attr=\"name\", with_descendants=True)\n",
    "ids_l1 = ids_ctx & region_map.find(\"@.*1[ab]?$\", attr=\"acronym\", with_descendants=True)\n",
    "ids_l2 = ids_ctx & region_map.find(\"@.*2.*[ab]?$\", attr=\"acronym\", with_descendants=True)\n",
    "colors = np.array([1-CBcdict[\"Bu\"], 1-CBcdict[\"Or\"]]) "
   ]
  },
  {
   "cell_type": "code",
   "execution_count": null,
   "metadata": {
    "pycharm": {
     "name": "#%%\n"
    }
   },
   "outputs": [],
   "source": [
    "slice_ = 195  # coronal slice id showing L1 L2 in the cortex\n",
    "fig = plt.Figure(figsize=(30, 12))\n",
    "\n",
    "for i, ccf in enumerate(ccfs):\n",
    "    annotation = VoxelData.load_nrrd(join(DATA_FOLDER, ccf, annotation_file)).raw\n",
    "    nissl = VoxelData.load_nrrd(join(DATA_FOLDER, ccf, nissl_file)).raw\n",
    "    loc_slice = slice_\n",
    "    \n",
    "    img = nissl[loc_slice, 30:annotation.shape[1] // 2-50, 50:annotation.shape[2] // 2]\n",
    "    ann_img = np.copy(annotation[loc_slice, 30:annotation.shape[1] // 2-50, 50:annotation.shape[2] // 2])\n",
    "\n",
    "    norm = plt.Normalize(nissl.min(), nissl.max())\n",
    "    rgba = cmap(1-norm(img))\n",
    "    annotation[loc_slice-1] = 0 # Force annotation for 3d boundary\n",
    "    annotation[loc_slice+1] = 0\n",
    "    \n",
    "    filter_l1 = np.isin(ann_img, list(ids_l1))\n",
    "    filter_l2 = np.isin(ann_img, list(ids_l2))\n",
    "    ann_img *= 0\n",
    "    ann_img[filter_l1] = 1\n",
    "    ann_img[filter_l2] = 2\n",
    "    ann_img[:, :60] = 0\n",
    "    ann_filt = np.isin(annotation, list(ids_l1))\n",
    "    boundaries = binary_dilation(ann_filt, struct, iterations=thickness)\n",
    "    boundaries = boundaries[loc_slice, 30:annotation.shape[1] // 2-50, 50:annotation.shape[2] // 2]\n",
    "    boundaries *= filter_l2\n",
    "    boundaries[:, :60] = False\n",
    "    rgba-=0.5\n",
    "    rgba[ann_img>0, :3] -= 0.3 * colors[ann_img[ann_img>0]-1]    \n",
    "    rgba[boundaries, :3] = CBcdict[\"Ye\"] - 0.5\n",
    "\n",
    "    rgba = np.maximum(rgba/np.max(rgba), 0)\n",
    "    ax = plt.subplot2grid((1,3), (0, i), rowspan=1, colspan=1)\n",
    "    ax.imshow(rgba, interpolation='nearest')\n",
    "    ax.vlines(x=60, ymin=0, ymax=rgba.shape[0]-1, linewidth=7, color=\"black\")\n",
    "    if i == 0:\n",
    "        x = 12\n",
    "        y = 15\n",
    "        ax.hlines(y=y, xmin=x, xmax=x+40, linewidth=15, color=\"black\")\n",
    "        ax.text(x+18,y-5, \"1 mm\", weight='bold', horizontalalignment='center')\n",
    "    elif i>=1:\n",
    "        rect = patches.Rectangle((60, 25), 10, 10, fill=False, linewidth=6)\n",
    "        ax.add_patch(rect)\n",
    "        ax.plot([60, 73], [35, 79], linewidth=6, color='black')\n",
    "        ax.plot([70, 108], [25, 42], linewidth=6, color='black')\n",
    "                \n",
    "        a = plt.axes([0.8 - 2/3 +i/3 + (0.01 if i==1 else 0), .335, .06, .15])\n",
    "        a.axis(\"off\")\n",
    "        a.imshow(rgba[25:35,60:70], interpolation='nearest')\n",
    "        autoAxis = a.axis()\n",
    "        rec = plt.Rectangle((autoAxis[0],autoAxis[2]),(autoAxis[1]-autoAxis[0]),(autoAxis[3]-autoAxis[2]),fill=False,lw=6)\n",
    "        rec = a.add_patch(rec)\n",
    "        rec.set_clip_on(False)\n",
    "        \n",
    "        rect = patches.Rectangle((166, 30), 10, 10, fill=False, linewidth=6)\n",
    "        ax.add_patch(rect)\n",
    "        ax.plot([166, 130], [30, 42], linewidth=6, color='black')\n",
    "        ax.plot([176, 165], [40, 79], linewidth=6, color='black')\n",
    "        a = plt.axes([0.895 - 2/3 + i/3 + (0.01 if i==1 else 0), .335, .06, .15])\n",
    "        a.axis(\"off\")\n",
    "        a.imshow(rgba[30:40, 166:176], interpolation='nearest')\n",
    "        autoAxis = a.axis()\n",
    "        rec = plt.Rectangle((autoAxis[0],autoAxis[2]),(autoAxis[1]-autoAxis[0]),(autoAxis[3]-autoAxis[2]),fill=False,lw=6)\n",
    "        rec = a.add_patch(rec)\n",
    "        rec.set_clip_on(False)\n",
    "\n",
    "    ax.axis('off')\n",
    "    ax.set_title(ccf_fullname[i])\n",
    "\n",
    "plt.tight_layout()\n",
    "plt.savefig(join(OUTPUT_FOLDER, 'annotation_Nissl_L12.png'), dpi=200, facecolor=\"white\")"
   ]
  },
  {
   "cell_type": "code",
   "execution_count": null,
   "metadata": {
    "pycharm": {
     "name": "#%%\n"
    }
   },
   "outputs": [],
   "source": []
  }
 ],
 "metadata": {
  "kernelspec": {
   "display_name": "Python 3 (ipykernel)",
   "language": "python",
   "name": "python3"
  },
  "language_info": {
   "codemirror_mode": {
    "name": "ipython",
    "version": 3
   },
   "file_extension": ".py",
   "mimetype": "text/x-python",
   "name": "python",
   "nbconvert_exporter": "python",
   "pygments_lexer": "ipython3",
   "version": "3.8.10"
  }
 },
 "nbformat": 4,
 "nbformat_minor": 4
}
