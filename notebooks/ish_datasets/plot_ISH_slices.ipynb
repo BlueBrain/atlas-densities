{
 "cells": [
  {
   "cell_type": "markdown",
   "metadata": {
    "pycharm": {
     "name": "#%% md\n"
    }
   },
   "source": [
    "# Plot ISH image from the AIBS website"
   ]
  },
  {
   "cell_type": "markdown",
   "metadata": {
    "pycharm": {
     "name": "#%% md\n"
    }
   },
   "source": [
    "## Description"
   ]
  },
  {
   "cell_type": "markdown",
   "metadata": {
    "pycharm": {
     "name": "#%% md\n"
    }
   },
   "source": [
    "The Allen Institute for brain science (AIBS) has performed hundreds of *in situ* hybridization (ISH) experiments on mice (see Lein et al. 2008).\n",
    "\n",
    "The results of these experiments are high resolution image stacks of coronal or sagittal brain slices, aligned to the AIBS average brain.\n",
    "These ISH datasets are used in Erö et al. (2018) and Rodarie et al. (2021) to predict the densities of different cell types in the mouse brain.\n",
    "\n",
    "In this notebook we are plotting different brain slices of GAD1 experiments available at: http://mouse.brain-map.org"
   ]
  },
  {
   "cell_type": "code",
   "execution_count": null,
   "metadata": {
    "pycharm": {
     "name": "#%%\n"
    }
   },
   "outputs": [],
   "source": [
    "import numpy as np\n",
    "import json\n",
    "import urllib\n",
    "from os.path import join, abspath\n",
    "import matplotlib.pylab as plt\n",
    "from matplotlib import colors\n",
    "from matplotlib.cbook import get_sample_data\n",
    "from voxcell import VoxelData\n",
    "from scipy.ndimage import binary_dilation, generate_binary_structure\n",
    "from skimage.color import rgb2gray\n",
    "from skimage.filters import threshold_otsu"
   ]
  },
  {
   "cell_type": "code",
   "execution_count": null,
   "metadata": {
    "pycharm": {
     "name": "#%%\n"
    }
   },
   "outputs": [],
   "source": [
    "DATA_FOLDER = 'path/to/data/'\n",
    "OUTPUT_FOLDER = \"path/to/output\""
   ]
  },
  {
   "cell_type": "markdown",
   "metadata": {
    "pycharm": {
     "name": "#%% md\n"
    }
   },
   "source": [
    "## Set matplotlib parameters"
   ]
  },
  {
   "cell_type": "code",
   "execution_count": null,
   "metadata": {
    "pycharm": {
     "name": "#%%\n"
    }
   },
   "outputs": [],
   "source": [
    "SMALL_SIZE = 48\n",
    "MEDIUM_SIZE = 48\n",
    "BIGGER_SIZE = 48\n",
    "plt.rcParams[\"font.family\"] = \"Arial\"\n",
    "plt.rc('font', size=SMALL_SIZE)          # controls default text sizes\n",
    "plt.rc('axes', titlesize=BIGGER_SIZE)     # fontsize of the axes title\n",
    "plt.rc('axes', labelsize=MEDIUM_SIZE)    # fontsize of the x and y labels\n",
    "plt.rc('xtick', labelsize=SMALL_SIZE)    # fontsize of the tick labels\n",
    "plt.rc('ytick', labelsize=SMALL_SIZE)    # fontsize of the tick labels\n",
    "plt.rc('legend', fontsize=SMALL_SIZE)    # legend fontsize\n",
    "plt.rc('figure', titlesize=BIGGER_SIZE)  # fontsize of the figure title\n",
    "\n",
    "plt.rcParams['xtick.major.pad']  = 9.0\n",
    "plt.rcParams['axes.linewidth'] = 2.0\n",
    "plt.rcParams['xtick.major.size' ] = 7.0*3.0\n",
    "plt.rcParams['xtick.minor.size' ] = 4.0*3.0\n",
    "plt.rcParams['ytick.major.size' ] = 7.0*3.0\n",
    "plt.rcParams['ytick.minor.size' ] = 4.0*3.0\n",
    "plt.rcParams['xtick.major.width'] = 2.4\n",
    "plt.rcParams['xtick.minor.width'] = 1.8\n",
    "plt.rcParams['ytick.major.width'] = 2.4\n",
    "plt.rcParams['ytick.minor.width'] = 1.8"
   ]
  },
  {
   "cell_type": "markdown",
   "metadata": {
    "pycharm": {
     "name": "#%% md\n"
    }
   },
   "source": [
    "## Download the ISH images from the AIBS website."
   ]
  },
  {
   "cell_type": "markdown",
   "metadata": {
    "pycharm": {
     "name": "#%% md\n"
    }
   },
   "source": [
    "We are downloading the coronal slice 288 of the experiment 79556706: http://mouse.brain-map.org/experiment/show/79556706"
   ]
  },
  {
   "cell_type": "code",
   "execution_count": null,
   "metadata": {
    "pycharm": {
     "name": "#%%\n"
    }
   },
   "outputs": [],
   "source": [
    "raw_ish_url = \"http://mouse.brain-map.org/cgi-bin/imageservice?path=/external/aibssan/production25/stitch1/0301101826/0301101826_1_zoom.aff&mime=1&fileout=79556706_288.jpg&zoom=6&top=0&left=0&width=10209&height=7281\"\n",
    "urllib.request.urlretrieve(raw_ish_url, join(DATA_FOLDER, \"raw_GAD1_ISH.jpg\"))\n",
    "expr_ish_url = \"http://mouse.brain-map.org/cgi-bin/imageservice?path=/external/aibssan/production32/prod303/0301101826/0301101826_288_expression.aff&mime=1&fileout=79556706_288.jpg&zoom=6&top=0&left=0&width=10209&height=7281&filter=colormap&filterVals=0.5,1,0,256,4\"\n",
    "urllib.request.urlretrieve(expr_ish_url, join(DATA_FOLDER, \"expr_GAD1_ISH.jpg\"))"
   ]
  },
  {
   "cell_type": "markdown",
   "metadata": {
    "pycharm": {
     "name": "#%% md\n"
    }
   },
   "source": [
    "## Plot raw ISH slice"
   ]
  },
  {
   "cell_type": "code",
   "execution_count": null,
   "metadata": {
    "pycharm": {
     "name": "#%%\n"
    }
   },
   "outputs": [],
   "source": [
    "pixel_res = 1.05 # number of um per pixel from AIBS ISH images full res\n",
    "with get_sample_data(abspath(join(DATA_FOLDER, 'raw_GAD1_ISH.jpg'))) as image_file:\n",
    "    image = plt.imread(image_file)\n",
    "image = np.array(image)\n",
    "image[image>240] = 255 # set background to white"
   ]
  },
  {
   "cell_type": "code",
   "execution_count": null,
   "metadata": {
    "pycharm": {
     "name": "#%%\n"
    }
   },
   "outputs": [],
   "source": [
    "fig, ax = plt.subplots(figsize=(15,10.5263))\n",
    "im = ax.imshow(image)\n",
    "x = 100\n",
    "y = image.shape[0]*0.85\n",
    "length = 1000. / pixel_res # convert to mm\n",
    "ax.hlines(y=y, xmin=x, xmax=x+length, linewidth=15, color='black')\n",
    "ax.text(x+length//2,y-260, \"1 mm\", weight='bold', horizontalalignment='center')\n",
    "ax.axis(\"off\")\n",
    "plt.tight_layout(pad=0)\n",
    "plt.savefig(join(OUTPUT_FOLDER, 'GAD1_slice.png'), dpi=200, facecolor=\"white\")"
   ]
  },
  {
   "cell_type": "markdown",
   "metadata": {
    "pycharm": {
     "name": "#%% md\n"
    }
   },
   "source": [
    "## Plot filtered ISH slice   "
   ]
  },
  {
   "cell_type": "code",
   "execution_count": null,
   "metadata": {
    "pycharm": {
     "name": "#%%\n"
    }
   },
   "outputs": [],
   "source": [
    "with get_sample_data(abspath(join(DATA_FOLDER, 'expr_GAD1_ISH.jpg'))) as image_file:\n",
    "    image = plt.imread(image_file)\n",
    "image = np.array(image)\n",
    "image[image<10] = 0\n",
    "image = 255 - image # invert colors so that background becomes white"
   ]
  },
  {
   "cell_type": "code",
   "execution_count": null,
   "metadata": {
    "pycharm": {
     "name": "#%%\n"
    }
   },
   "outputs": [],
   "source": [
    "# Recover colormap \n",
    "cmap = plt.cm.jet\n",
    "cmaplist = [cmap(i) for i in range(cmap.N)]\n",
    "for i_col, _ in enumerate(cmaplist):\n",
    "    cmaplist[i_col] = (1.0 - cmaplist[i_col][0], \n",
    "                       1.0 - cmaplist[i_col][1], \n",
    "                       1.0 - cmaplist[i_col][2], \n",
    "                       cmaplist[i_col][3])\n",
    "cmaplist = np.array(cmaplist)[np.linspace(0, len(cmaplist)-1, 10, dtype=int)][1:]\n",
    "cmap = colors.LinearSegmentedColormap.from_list('mcm',cmaplist, N=len(cmaplist))"
   ]
  },
  {
   "cell_type": "code",
   "execution_count": null,
   "metadata": {
    "pycharm": {
     "name": "#%%\n"
    }
   },
   "outputs": [],
   "source": [
    "fig, ax = plt.subplots(figsize=(15, 10.5263))\n",
    "im = ax.imshow(image, interpolation=\"nearest\")\n",
    "x = 100\n",
    "y = image.shape[0]*0.85\n",
    "length = 1000. / pixel_res\n",
    "ax.hlines(y=y, xmin=x, xmax=x+length, linewidth=15, color='black')\n",
    "ax.text(x+length//2,y-260, \"1 mm\", weight='bold', horizontalalignment='center')\n",
    "ax.axis(\"off\")\n",
    "plt.tight_layout(pad=0)\n",
    "plt.savefig(join(OUTPUT_FOLDER, 'GAD_expr_white.png'), dpi=200, facecolor=\"white\")"
   ]
  },
  {
   "cell_type": "code",
   "execution_count": null,
   "metadata": {
    "pycharm": {
     "name": "#%%\n"
    }
   },
   "outputs": [],
   "source": [
    "# Plot the legend for previous figure in a separate figure.\n",
    "fig, ax = plt.subplots(figsize=(3, 10.5263))\n",
    "cbaxes = fig.add_axes([0.2, 0.2, 0.1, 0.6]) \n",
    "cbar = plt.colorbar(plt.cm.ScalarMappable(norm=plt.Normalize(0.1, 1.0), cmap=cmap), cax=cbaxes)#, shrink=0.5)\n",
    "cbar.ax.tick_params(labelsize=30)\n",
    "cbar.set_label('Expression level', rotation=90)\n",
    "ax.axis(\"off\")\n",
    "plt.tight_layout(pad=0)\n",
    "plt.savefig(join(OUTPUT_FOLDER, 'colorbar_exp.png'), dpi=200, facecolor=\"white\")"
   ]
  },
  {
   "cell_type": "markdown",
   "metadata": {
    "pycharm": {
     "name": "#%% md\n"
    }
   },
   "source": [
    "## Plot binarized ISH slices"
   ]
  },
  {
   "cell_type": "markdown",
   "metadata": {
    "pycharm": {
     "name": "#%% md\n"
    }
   },
   "source": [
    "The filtered images from the AIBS are binarized using a Otsu thresholding. These images will be realigned to the Nissl volume using the Deep-Atlas toolboox: https://github.com/BlueBrain/Deep-Atlas."
   ]
  },
  {
   "cell_type": "code",
   "execution_count": null,
   "metadata": {
    "pycharm": {
     "name": "#%%\n"
    }
   },
   "outputs": [],
   "source": [
    "with get_sample_data(abspath(join(DATA_FOLDER, 'expr_GAD1_ISH.jpg'))) as image_file:\n",
    "    image = plt.imread(image_file)\n",
    "image = np.array(image)\n",
    "image[image<10] = 0\n",
    "image = 255 - image # invert colors so that background becomes white"
   ]
  },
  {
   "cell_type": "code",
   "execution_count": null,
   "metadata": {
    "pycharm": {
     "name": "#%%\n"
    }
   },
   "outputs": [],
   "source": [
    "expr_preprocessed = rgb2gray(image)\n",
    "img_binary = (expr_preprocessed > threshold_otsu(expr_preprocessed)) * 1\n",
    "expr_preprocessed = img_binary.astype(\"uint8\")"
   ]
  },
  {
   "cell_type": "code",
   "execution_count": null,
   "metadata": {
    "pycharm": {
     "name": "#%%\n"
    }
   },
   "outputs": [],
   "source": [
    "fig, ax = plt.subplots(figsize=(15, 10.5263))\n",
    "ax.imshow(~expr_preprocessed, interpolation=\"nearest\", cmap=\"Greys\")\n",
    "x = 100\n",
    "y = image.shape[0]*0.85\n",
    "length = 1000. / pixel_res\n",
    "ax.hlines(y=y, xmin=x, xmax=x+length, linewidth=15, color='black')\n",
    "ax.text(x+length//2,y-260, \"1 mm\", weight='bold', horizontalalignment='center')\n",
    "ax.axis(\"off\")\n",
    "plt.tight_layout(pad=0)\n",
    "plt.savefig(join(OUTPUT_FOLDER, 'GAD_binary_white.png'), dpi=200, facecolor=\"white\")"
   ]
  },
  {
   "cell_type": "markdown",
   "metadata": {
    "pycharm": {
     "name": "#%% md\n"
    }
   },
   "source": [
    "## Plot ISH coronal slice positions"
   ]
  },
  {
   "cell_type": "markdown",
   "metadata": {
    "pycharm": {
     "name": "#%% md\n"
    }
   },
   "source": [
    "The AIBS provides metadata for their ISH experiments, including the positions of the ISH slices in the mouse brain (according to the AIBS average brain).\n",
    "These informations can be extracted using the DeepAtlas toolbox: https://github.com/BlueBrain/Deep-Atlas. \n",
    "\n",
    "Here we are plotting the slice positions of the coronal ISH experiment (#479) on top of the boundaries of the annotation atlas."
   ]
  },
  {
   "cell_type": "code",
   "execution_count": null,
   "metadata": {
    "pycharm": {
     "name": "#%%\n"
    }
   },
   "outputs": [],
   "source": [
    "# List of the ISH slices positions in the annotation atlas after realignment.\n",
    "GAD_slices = json.loads(open(join(DATA_FOLDER, \"realigned_slices.json\"), \"r\").read())[\"479\"]"
   ]
  },
  {
   "cell_type": "code",
   "execution_count": null,
   "metadata": {
    "pycharm": {
     "name": "#%%\n"
    }
   },
   "outputs": [],
   "source": [
    "# Annotation file\n",
    "annotation = VoxelData.load_nrrd(join(DATA_FOLDER, \"annotations.nrrd\")).raw"
   ]
  },
  {
   "cell_type": "code",
   "execution_count": null,
   "metadata": {
    "pycharm": {
     "name": "#%%\n"
    }
   },
   "outputs": [],
   "source": [
    "struct = generate_binary_structure(2, 2)\n",
    "thickness = 1 # thickness of the brain outside boundary \n",
    "slice_ = int(annotation.shape[2] // 2.5)\n",
    "\n",
    "lim_GAD=[GAD_slices[0],GAD_slices[-1]]\n",
    "loc_filt = np.zeros(annotation.shape)\n",
    "loc_filt[annotation!=0] = 1\n",
    "\n",
    "loc_filt = loc_filt[:, :, slice_]\n",
    "boundaries = binary_dilation(loc_filt, struct, iterations=thickness) * (annotation[:, :, slice_]==0)\n",
    "fig = plt.figure(figsize=(15, 9.1))\n",
    "\n",
    "plt.imshow(boundaries.T, interpolation=\"nearest\", cmap=\"Greys\")\n",
    "for i in GAD_slices:\n",
    "    plt.axvline(x=[i], color=[0, .45, .7], linewidth=1)\n",
    "y = 280\n",
    "x = 20\n",
    "plt.hlines(y=y, xmin=x, xmax=x + 40, linewidth=15, color=\"black\")\n",
    "plt.text(x + 18, y - 10, \"1 mm\", weight='bold', horizontalalignment='center')\n",
    "plt.axis('off')\n",
    "plt.tight_layout(pad=0)\n",
    "plt.savefig(join(OUTPUT_FOLDER, 'GAD_slices_position.png'), dpi=200, facecolor=\"white\")"
   ]
  },
  {
   "cell_type": "code",
   "execution_count": null,
   "metadata": {
    "pycharm": {
     "name": "#%%\n"
    }
   },
   "outputs": [],
   "source": []
  }
 ],
 "metadata": {
  "kernelspec": {
   "display_name": "venv",
   "language": "python",
   "name": "venv"
  },
  "language_info": {
   "codemirror_mode": {
    "name": "ipython",
    "version": 3
   },
   "file_extension": ".py",
   "mimetype": "text/x-python",
   "name": "python",
   "nbconvert_exporter": "python",
   "pygments_lexer": "ipython3",
   "version": "3.8.10"
  }
 },
 "nbformat": 4,
 "nbformat_minor": 4
}